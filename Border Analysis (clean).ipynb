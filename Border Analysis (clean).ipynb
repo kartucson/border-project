{
 "cells": [
  {
   "cell_type": "markdown",
   "metadata": {},
   "source": [
    "## Importing"
   ]
  },
  {
   "cell_type": "code",
   "execution_count": 5,
   "metadata": {
    "collapsed": true
   },
   "outputs": [],
   "source": [
    "import warnings\n",
    "warnings.filterwarnings('ignore')"
   ]
  },
  {
   "cell_type": "code",
   "execution_count": 28,
   "metadata": {
    "collapsed": false
   },
   "outputs": [],
   "source": [
    "import pandas as pd\n",
    "import datetime\n",
    "import seaborn as sns\n",
    "import numpy as np\n",
    "import itertools\n",
    "import statsmodels.api as sm\n",
    "from matplotlib import pyplot as plt\n",
    "\n",
    "%matplotlib inline"
   ]
  },
  {
   "cell_type": "code",
   "execution_count": 7,
   "metadata": {
    "collapsed": false
   },
   "outputs": [],
   "source": [
    "df_07 = pd.read_csv('2007.csv')\n",
    "df_08 = pd.read_csv('2008.csv')\n",
    "df_09 = pd.read_csv('2009.csv')\n",
    "df_10 = pd.read_csv('2010.csv')\n",
    "df_11 = pd.read_csv('2011.csv')\n",
    "df_12 = pd.read_csv('2012.csv')\n",
    "df_13 = pd.read_csv('2013.csv')\n",
    "df_14 = pd.read_csv('2014.csv')\n",
    "df_15 = pd.read_csv('2015.csv')\n",
    "df_16 = pd.read_csv('2016.csv')\n",
    "\n",
    "df = pd.concat([df_07, df_08, df_09, df_10, df_11, df_12, df_13, df_14, df_15, df_16])"
   ]
  },
  {
   "cell_type": "markdown",
   "metadata": {},
   "source": [
    "## Cleaning"
   ]
  },
  {
   "cell_type": "markdown",
   "metadata": {},
   "source": [
    "#### Turn our string dates into datetime objects"
   ]
  },
  {
   "cell_type": "code",
   "execution_count": 8,
   "metadata": {
    "collapsed": false,
    "scrolled": false
   },
   "outputs": [],
   "source": [
    "def make_datetime(group_starts_object):\n",
    "    return datetime.datetime.strptime(group_starts_object, \"%Y-%m-%d %H:%M:%S\")"
   ]
  },
  {
   "cell_type": "markdown",
   "metadata": {},
   "source": [
    "#### Remove the extra characters from column names"
   ]
  },
  {
   "cell_type": "code",
   "execution_count": 9,
   "metadata": {
    "collapsed": false
   },
   "outputs": [],
   "source": [
    "def shorten_column_titles(columns):\n",
    "    new_titles = []\n",
    "    for column_title in columns:\n",
    "        column_title = column_title[6:]\n",
    "        new_titles.append(column_title) \n",
    "    return new_titles\n",
    "        \n",
    "df.columns = shorten_column_titles(df.columns)"
   ]
  },
  {
   "cell_type": "markdown",
   "metadata": {},
   "source": [
    "#### Change the index to datetimes, delete the old \"group starts\" column"
   ]
  },
  {
   "cell_type": "code",
   "execution_count": 10,
   "metadata": {
    "collapsed": false
   },
   "outputs": [],
   "source": [
    "df.index = df.Starts.apply(make_datetime)\n",
    "date_series = df.index\n",
    "del df['Starts']"
   ]
  },
  {
   "cell_type": "markdown",
   "metadata": {},
   "source": [
    "####  Make lists of column which will help in extracting key columns later on"
   ]
  },
  {
   "cell_type": "code",
   "execution_count": 11,
   "metadata": {
    "collapsed": false
   },
   "outputs": [],
   "source": [
    "delays = []\n",
    "volumes = []\n",
    "queue_lengths = []\n",
    "\n",
    "norths = []\n",
    "souths = []\n",
    "\n",
    "cars = []\n",
    "nexus = []\n",
    "\n",
    "def make_groups(columns): \n",
    "    for c_name in columns:\n",
    "        if \"North\" in c_name:\n",
    "            norths.append(c_name)\n",
    "        else:\n",
    "            souths.append(c_name)\n",
    "            \n",
    "        if \"Cars\" in c_name:\n",
    "            cars.append(c_name)\n",
    "        if \"NEXUS\" in c_name:\n",
    "            nexus.append(c_name)\n",
    "            \n",
    "        if \"Delay\" in c_name:\n",
    "            delays.append(c_name)\n",
    "        elif \"Queue Length\" in c_name:\n",
    "            queue_lengths.append(c_name)\n",
    "        elif \"Volume\" in c_name:\n",
    "            volumes.append(c_name)\n",
    "            \n",
    "make_groups(df)"
   ]
  },
  {
   "cell_type": "markdown",
   "metadata": {},
   "source": [
    "#### A function for extracting a dataset from a dataset, where columns match the columns given"
   ]
  },
  {
   "cell_type": "code",
   "execution_count": 13,
   "metadata": {
    "collapsed": false
   },
   "outputs": [],
   "source": [
    "def get_df_from_mutual_columns(df, column_list):\n",
    "    good_cols = []\n",
    "    for column in df.columns:\n",
    "        if column in column_list:\n",
    "            good_cols.append(column)\n",
    "    return df[good_cols]"
   ]
  },
  {
   "cell_type": "markdown",
   "metadata": {},
   "source": [
    "####  Get the volume columns and grouby them by their daily sums"
   ]
  },
  {
   "cell_type": "code",
   "execution_count": 21,
   "metadata": {
    "collapsed": false
   },
   "outputs": [],
   "source": [
    "volumes_by_day = df.groupby([df.index.year, df.index.month, df.index.day])[volumes].sum()\n",
    "volumes_by_day.reset_index(inplace=True)"
   ]
  },
  {
   "cell_type": "code",
   "execution_count": null,
   "metadata": {
    "collapsed": true
   },
   "outputs": [],
   "source": []
  },
  {
   "cell_type": "code",
   "execution_count": 9,
   "metadata": {
    "collapsed": false
   },
   "outputs": [
    {
     "name": "stderr",
     "output_type": "stream",
     "text": [
      "/home/captain_eli/anaconda2/lib/python2.7/site-packages/ipykernel/__main__.py:3: SettingWithCopyWarning: \n",
      "A value is trying to be set on a copy of a slice from a DataFrame.\n",
      "Try using .loc[row_indexer,col_indexer] = value instead\n",
      "\n",
      "See the caveats in the documentation: http://pandas.pydata.org/pandas-docs/stable/indexing.html#indexing-view-versus-copy\n",
      "  app.launch_new_instance()\n",
      "/home/captain_eli/anaconda2/lib/python2.7/site-packages/ipykernel/__main__.py:6: SettingWithCopyWarning: \n",
      "A value is trying to be set on a copy of a slice from a DataFrame.\n",
      "Try using .loc[row_indexer,col_indexer] = value instead\n",
      "\n",
      "See the caveats in the documentation: http://pandas.pydata.org/pandas-docs/stable/indexing.html#indexing-view-versus-copy\n"
     ]
    }
   ],
   "source": [
    "car_volumes_by_day = get_df_from_mutual_columns(volumes_by_day, cars)\n",
    "north_car_volumes_by_day = get_df_from_mutual_columns(car_volumes_by_day, norths)\n",
    "north_car_volumes_by_day['Count'] = north_car_volumes_by_day.count(axis=1,numeric_only=True)\n",
    "\n",
    "south_car_volumes_by_day = get_df_from_mutual_columns(car_volumes_by_day, souths)\n",
    "south_car_volumes_by_day['Count'] = south_car_volumes_by_day.count(axis=1,numeric_only=True)"
   ]
  },
  {
   "cell_type": "code",
   "execution_count": 10,
   "metadata": {
    "collapsed": false,
    "scrolled": false
   },
   "outputs": [],
   "source": [
    "north_car_volumes_by_day.index = pd.date_range('2007-01-01', '2016-01-12', freq='D')\n",
    "south_car_volumes_by_day.index = pd.date_range('2007-01-01', '2016-01-12', freq='D')"
   ]
  },
  {
   "cell_type": "code",
   "execution_count": 11,
   "metadata": {
    "collapsed": true
   },
   "outputs": [],
   "source": [
    "selective_north_car_volumes_by_day = north_car_volumes_by_day.ix[north_car_volumes_by_day['Count']>= 4]\n",
    "selective_south_car_volumes_by_day = south_car_volumes_by_day.ix[south_car_volumes_by_day['Count']>= 4]"
   ]
  },
  {
   "cell_type": "code",
   "execution_count": 12,
   "metadata": {
    "collapsed": false
   },
   "outputs": [],
   "source": [
    "del selective_north_car_volumes_by_day['Count']\n",
    "del selective_south_car_volumes_by_day['Count']"
   ]
  },
  {
   "cell_type": "code",
   "execution_count": 13,
   "metadata": {
    "collapsed": false
   },
   "outputs": [
    {
     "name": "stderr",
     "output_type": "stream",
     "text": [
      "/home/captain_eli/anaconda2/lib/python2.7/site-packages/pandas/core/indexing.py:117: SettingWithCopyWarning: \n",
      "A value is trying to be set on a copy of a slice from a DataFrame\n",
      "\n",
      "See the caveats in the documentation: http://pandas.pydata.org/pandas-docs/stable/indexing.html#indexing-view-versus-copy\n",
      "  self._setitem_with_indexer(indexer, value)\n",
      "/home/captain_eli/anaconda2/lib/python2.7/site-packages/ipykernel/__main__.py:4: SettingWithCopyWarning: \n",
      "A value is trying to be set on a copy of a slice from a DataFrame\n",
      "\n",
      "See the caveats in the documentation: http://pandas.pydata.org/pandas-docs/stable/indexing.html#indexing-view-versus-copy\n"
     ]
    }
   ],
   "source": [
    "def make_low_values_disappear(df, cols):\n",
    "    for col in cols:\n",
    "        df_t = df\n",
    "        df_t.ix[df_t[col]<= 10, [col]] = np.nan\n",
    "\n",
    "make_low_values_disappear(selective_north_car_volumes_by_day, selective_north_car_volumes_by_day.columns)\n",
    "make_low_values_disappear(selective_south_car_volumes_by_day, selective_south_car_volumes_by_day.columns)"
   ]
  },
  {
   "cell_type": "code",
   "execution_count": 14,
   "metadata": {
    "collapsed": false
   },
   "outputs": [
    {
     "name": "stderr",
     "output_type": "stream",
     "text": [
      "/home/captain_eli/anaconda2/lib/python2.7/site-packages/ipykernel/__main__.py:1: SettingWithCopyWarning: \n",
      "A value is trying to be set on a copy of a slice from a DataFrame\n",
      "\n",
      "See the caveats in the documentation: http://pandas.pydata.org/pandas-docs/stable/indexing.html#indexing-view-versus-copy\n",
      "  if __name__ == '__main__':\n",
      "/home/captain_eli/anaconda2/lib/python2.7/site-packages/ipykernel/__main__.py:2: SettingWithCopyWarning: \n",
      "A value is trying to be set on a copy of a slice from a DataFrame\n",
      "\n",
      "See the caveats in the documentation: http://pandas.pydata.org/pandas-docs/stable/indexing.html#indexing-view-versus-copy\n",
      "  from ipykernel import kernelapp as app\n"
     ]
    },
    {
     "name": "stdout",
     "output_type": "stream",
     "text": [
      "\n"
     ]
    }
   ],
   "source": [
    "selective_north_car_volumes_by_day.dropna(inplace=True)\n",
    "selective_south_car_volumes_by_day.dropna(inplace=True)\n",
    "print"
   ]
  },
  {
   "cell_type": "code",
   "execution_count": 15,
   "metadata": {
    "collapsed": false,
    "scrolled": true
   },
   "outputs": [
    {
     "name": "stderr",
     "output_type": "stream",
     "text": [
      "/home/captain_eli/anaconda2/lib/python2.7/site-packages/ipykernel/__main__.py:1: SettingWithCopyWarning: \n",
      "A value is trying to be set on a copy of a slice from a DataFrame.\n",
      "Try using .loc[row_indexer,col_indexer] = value instead\n",
      "\n",
      "See the caveats in the documentation: http://pandas.pydata.org/pandas-docs/stable/indexing.html#indexing-view-versus-copy\n",
      "  if __name__ == '__main__':\n",
      "/home/captain_eli/anaconda2/lib/python2.7/site-packages/ipykernel/__main__.py:2: SettingWithCopyWarning: \n",
      "A value is trying to be set on a copy of a slice from a DataFrame.\n",
      "Try using .loc[row_indexer,col_indexer] = value instead\n",
      "\n",
      "See the caveats in the documentation: http://pandas.pydata.org/pandas-docs/stable/indexing.html#indexing-view-versus-copy\n",
      "  from ipykernel import kernelapp as app\n"
     ]
    }
   ],
   "source": [
    "selective_north_car_volumes_by_day['Sum'] = selective_north_car_volumes_by_day.sum(axis=1)\n",
    "selective_south_car_volumes_by_day['Sum'] = selective_south_car_volumes_by_day.sum(axis=1)"
   ]
  },
  {
   "cell_type": "code",
   "execution_count": 16,
   "metadata": {
    "collapsed": false,
    "scrolled": false
   },
   "outputs": [],
   "source": [
    "north_mean = selective_north_car_volumes_by_day.groupby([selective_north_car_volumes_by_day.index.month, selective_north_car_volumes_by_day.index.day])['Sum'].mean()\n",
    "north_std = selective_north_car_volumes_by_day.groupby([selective_north_car_volumes_by_day.index.month, selective_north_car_volumes_by_day.index.day])['Sum'].std()\n",
    "\n",
    "north_means_and_stds_df = pd.DataFrame([north_mean, north_std], index=['Mean', 'STD'])\n",
    "north_means_and_stds_df = north_means_and_stds_df.T"
   ]
  },
  {
   "cell_type": "code",
   "execution_count": 17,
   "metadata": {
    "collapsed": true
   },
   "outputs": [],
   "source": [
    "south_mean = selective_south_car_volumes_by_day.groupby([selective_south_car_volumes_by_day.index.month, selective_south_car_volumes_by_day.index.day])['Sum'].mean()\n",
    "south_std = selective_south_car_volumes_by_day.groupby([selective_south_car_volumes_by_day.index.month, selective_south_car_volumes_by_day.index.day])['Sum'].std()\n",
    "\n",
    "south_means_and_stds_df = pd.DataFrame([south_mean, south_std], index=['Mean', 'STD'])\n",
    "south_means_and_stds_df = south_means_and_stds_df.T"
   ]
  },
  {
   "cell_type": "code",
   "execution_count": 18,
   "metadata": {
    "collapsed": false
   },
   "outputs": [
    {
     "ename": "SyntaxError",
     "evalue": "invalid syntax (<ipython-input-18-54422b606436>, line 1)",
     "output_type": "error",
     "traceback": [
      "\u001b[1;36m  File \u001b[1;32m\"<ipython-input-18-54422b606436>\"\u001b[1;36m, line \u001b[1;32m1\u001b[0m\n\u001b[1;33m    1886702.101951685 vs 888656.7812980331\u001b[0m\n\u001b[1;37m                       ^\u001b[0m\n\u001b[1;31mSyntaxError\u001b[0m\u001b[1;31m:\u001b[0m invalid syntax\n"
     ]
    }
   ],
   "source": [
    "1886702.101951685 vs 888656.7812980331"
   ]
  },
  {
   "cell_type": "code",
   "execution_count": null,
   "metadata": {
    "collapsed": false
   },
   "outputs": [],
   "source": [
    "south_means_and_stds_df.plot()"
   ]
  },
  {
   "cell_type": "code",
   "execution_count": null,
   "metadata": {
    "collapsed": false
   },
   "outputs": [],
   "source": [
    "north_means_and_stds_df['Mean MA'] = pd.rolling_mean(north_means_and_stds_df['Mean'], 7)\n",
    "south_means_and_stds_df['Mean MA'] = pd.rolling_mean(south_means_and_stds_df['Mean'], 7)"
   ]
  },
  {
   "cell_type": "code",
   "execution_count": null,
   "metadata": {
    "collapsed": false,
    "scrolled": true
   },
   "outputs": [],
   "source": [
    "south_means_and_stds_df = pd.concat([south_means_and_stds_df[:59], south_means_and_stds_df[60:]])"
   ]
  },
  {
   "cell_type": "code",
   "execution_count": null,
   "metadata": {
    "collapsed": false
   },
   "outputs": [],
   "source": [
    "north_means_and_stds_df.index = pd.date_range('2015-01-01', '2015-12-31', freq='D')\n",
    "south_means_and_stds_df.index = pd.date_range('2015-01-01', '2015-12-31', freq='D')"
   ]
  },
  {
   "cell_type": "markdown",
   "metadata": {},
   "source": [
    "## Start Visualizing"
   ]
  },
  {
   "cell_type": "code",
   "execution_count": null,
   "metadata": {
    "collapsed": false
   },
   "outputs": [],
   "source": [
    "labels = ['Jan','Feb','Mar','Apr','May','Jun','Jul','Aug','Sep','Oct','Nov','Dec']\n",
    "x_ticks = ['2015-01-01', '2015-02-01', '2015-03-01', '2015-04-01', '2015-05-01', '2015-06-01', \n",
    "           '2015-07-01', '2015-08-01', '2015-09-01', '2015-10-01', '2015-11-01', '2015-12-01', ]"
   ]
  },
  {
   "cell_type": "code",
   "execution_count": null,
   "metadata": {
    "collapsed": false,
    "scrolled": false
   },
   "outputs": [],
   "source": [
    "labels = ['Jan','Feb','Mar','Apr','May','Jun','Jul','Aug','Sep','Oct','Nov','Dec']\n",
    "x_ticks = ['2015-01-01', '2015-02-01', '2015-03-01', '2015-04-01', '2015-05-01', '2015-06-01', \n",
    "           '2015-07-01', '2015-08-01', '2015-09-01', '2015-10-01', '2015-11-01', '2015-12-01', ]\n",
    "\n",
    "with plt.style.context('fivethirtyeight'):\n",
    "    plt.figure(figsize=(16,12))\n",
    "    plt.plot(north_means_and_stds_df['Mean'], 'bo')\n",
    "    plt.plot(south_means_and_stds_df['Mean'], 'ro')\n",
    "    plt.plot(north_means_and_stds_df['Mean MA'], 'b', linewidth=8)\n",
    "    plt.plot(south_means_and_stds_df['Mean MA'], 'r', linewidth=8)\n",
    "                                               \n",
    "    plt.legend(labels=['Southbound to USA', 'Northbound to Canada'])\n",
    "    plt.xticks(x_ticks, labels)\n",
    "    plt.show()"
   ]
  },
  {
   "cell_type": "markdown",
   "metadata": {
    "collapsed": true
   },
   "source": [
    "### Testing which direction has more traffic"
   ]
  },
  {
   "cell_type": "code",
   "execution_count": null,
   "metadata": {
    "collapsed": false
   },
   "outputs": [],
   "source": [
    "car_volumes_by_day_of_year = get_df_from_mutual_columns(volumes_by_day_of_year, cars)\n",
    "north_car_volumes_by_day_of_year = get_df_from_mutual_columns(car_volumes_by_day_of_year, norths)\n",
    "south_car_volumes_by_day_of_year = get_df_from_mutual_columns(car_volumes_by_day_of_year, souths)\n",
    "\n",
    "total_volume_df = pd.DataFrame(index=north_car_volumes_by_day_of_year.index)\n",
    "total_volume_df['Southbound Sum'] = north_car_volumes_by_day_of_year.sum(axis=1)\n",
    "total_volume_df['Northbound Sum'] = south_car_volumes_by_day_of_year.sum(axis=1)\n",
    "total_volume_df.index = pd.date_range('2016-01-01', '2016-12-31', freq='D')\n",
    "total_volume_df['Difference'] = total_volume_df['Southbound Sum'] - total_volume_df['Northbound Sum']\n",
    "total_volume_df['Difference'].mean()"
   ]
  },
  {
   "cell_type": "code",
   "execution_count": null,
   "metadata": {
    "collapsed": false,
    "scrolled": false
   },
   "outputs": [],
   "source": [
    "dif = north_means_and_stds_df['Mean'] - south_means_and_stds_df['Mean']\n",
    "dif.mean()"
   ]
  },
  {
   "cell_type": "code",
   "execution_count": null,
   "metadata": {
    "collapsed": false,
    "scrolled": true
   },
   "outputs": [],
   "source": [
    "df.columns"
   ]
  },
  {
   "cell_type": "code",
   "execution_count": null,
   "metadata": {
    "collapsed": false
   },
   "outputs": [],
   "source": [
    "dif2 = df['Volume (Pacific Highway North Cars)'].dropna() - df['Volume (Pacific Highway South Cars)'].dropna()\n",
    "dif2.sum()"
   ]
  },
  {
   "cell_type": "markdown",
   "metadata": {},
   "source": [
    "## Vs Yearly Mean"
   ]
  },
  {
   "cell_type": "code",
   "execution_count": null,
   "metadata": {
    "collapsed": false
   },
   "outputs": [],
   "source": [
    "cars_days = get_df_from_mutual_columns(volumes_by_day, cars)\n",
    "cars_days.index = pd.date_range('2007-01-01', '2016-01-12', freq='D')\n",
    "cars_years = cars_days.groupby([cars_days.index.year])[cars_days.columns].mean()"
   ]
  },
  {
   "cell_type": "code",
   "execution_count": null,
   "metadata": {
    "collapsed": false
   },
   "outputs": [],
   "source": [
    "cols = cars_days.columns[:8].tolist()\n",
    "years = cars_years.index.tolist()\n",
    "my_days = cars_days.index.tolist()"
   ]
  },
  {
   "cell_type": "code",
   "execution_count": null,
   "metadata": {
    "collapsed": true
   },
   "outputs": [],
   "source": [
    "def year_avg_look_up(col, year):\n",
    "    #print cars_years[col][year]\n",
    "    return cars_years[col][year]"
   ]
  },
  {
   "cell_type": "code",
   "execution_count": null,
   "metadata": {
    "collapsed": false,
    "scrolled": true
   },
   "outputs": [],
   "source": [
    "def get_ratio(df, col, year, day):\n",
    "    relevant_df = df.ix[df.index.year == year]\n",
    "    relevant_series = relevant_df[col]\n",
    "    return relevant_series[day] / year_avg_look_up(col, year)\n",
    "\n",
    "\n",
    "def whole(in_df, cs, days):\n",
    "    df_ = pd.DataFrame(index=days, columns=cs)\n",
    "    \n",
    "    for col in cs:\n",
    "        \n",
    "        for day in days:\n",
    "\n",
    "            value = get_ratio(in_df, col, day.year, day)\n",
    "\n",
    "            df[col][day] = value\n",
    "            \n",
    "    return df_"
   ]
  },
  {
   "cell_type": "code",
   "execution_count": null,
   "metadata": {
    "collapsed": false
   },
   "outputs": [],
   "source": [
    "whole(cars_days, cols, my_days)"
   ]
  },
  {
   "cell_type": "markdown",
   "metadata": {},
   "source": [
    "## Restart"
   ]
  },
  {
   "cell_type": "markdown",
   "metadata": {},
   "source": [
    "#### Create a dataframe of just the cars from the volumes data, reassign the index "
   ]
  },
  {
   "cell_type": "code",
   "execution_count": 23,
   "metadata": {
    "collapsed": false
   },
   "outputs": [],
   "source": [
    "cars_by_day = get_df_from_mutual_columns(volumes_by_day, cars)\n",
    "cars_by_day.index = pd.date_range('2007-01-01', '2016-01-14', freq='D')"
   ]
  },
  {
   "cell_type": "markdown",
   "metadata": {},
   "source": [
    "#### Create another df that groups the volumes by day down into yearly averages"
   ]
  },
  {
   "cell_type": "code",
   "execution_count": 24,
   "metadata": {
    "collapsed": true
   },
   "outputs": [],
   "source": [
    "cars_by_year = cars_by_day.groupby([cars_by_day.index.year])[cars_by_day.columns].mean()"
   ]
  },
  {
   "cell_type": "markdown",
   "metadata": {},
   "source": [
    "#### Our columns and years for this cars_by_year dataframe"
   ]
  },
  {
   "cell_type": "code",
   "execution_count": 25,
   "metadata": {
    "collapsed": true
   },
   "outputs": [],
   "source": [
    "r_columns = ['Volume (Lynden/Aldergrove North Cars)', 'Volume (Lynden/Aldergrove South Cars)',\n",
    "             'Volume (Pacific Highway North Cars)', 'Volume (Pacific Highway South Cars)',\n",
    "             'Volume (Peace Arch North Cars)', 'Volume (Peace Arch South Cars)',\n",
    "             'Volume (Sumas/Huntingdon North Cars)','Volume (Sumas/Huntingdon South Cars)']\n",
    "r_years = [2007, 2008, 2009, 2010, 2011, 2012, 2013, 2014, 2015, 2016]"
   ]
  },
  {
   "cell_type": "markdown",
   "metadata": {},
   "source": [
    "#### Given a df and coords, return the cell at those coords"
   ]
  },
  {
   "cell_type": "code",
   "execution_count": 27,
   "metadata": {
    "collapsed": true
   },
   "outputs": [],
   "source": [
    "def look_up_ratio(year, column, df_lookup):\n",
    "    yearly_average = df_lookup[column][year]\n",
    "    return yearly_average"
   ]
  },
  {
   "cell_type": "markdown",
   "metadata": {},
   "source": [
    "#### Given a year, column, a daily df and a yearly df, return the column from the daily df as a ratio (divided) by the appropriate value from the yearly df"
   ]
  },
  {
   "cell_type": "code",
   "execution_count": 30,
   "metadata": {
    "collapsed": true
   },
   "outputs": [],
   "source": [
    "def get_ratios_for_column(year, column, day_df, year_df):\n",
    "    yearly_average = look_up_ratio(year, column, year_df)\n",
    "    this_year_df = day_df.ix[day_df.index.year == year]\n",
    "    \n",
    "    new_values = this_year_df[column] / yearly_average\n",
    "    \n",
    "    return new_values"
   ]
  },
  {
   "cell_type": "code",
   "execution_count": 25,
   "metadata": {
    "collapsed": false
   },
   "outputs": [],
   "source": [
    "all_cols_years = []\n",
    "\n",
    "for column in r_columns:\n",
    "    column_list = []\n",
    "    \n",
    "    for year in r_years:\n",
    "        values = get_ratios_for_column(year, column, cars_by_day, cars_by_year)\n",
    "        column_list.append(values)\n",
    "        \n",
    "    all_cols_years.append(column_list)"
   ]
  },
  {
   "cell_type": "code",
   "execution_count": 33,
   "metadata": {
    "collapsed": false
   },
   "outputs": [
    {
     "data": {
      "text/html": [
       "<div>\n",
       "<table border=\"1\" class=\"dataframe\">\n",
       "  <thead>\n",
       "    <tr style=\"text-align: right;\">\n",
       "      <th></th>\n",
       "      <th>Volume (Lynden/Aldergrove North Cars)</th>\n",
       "      <th>Volume (Lynden/Aldergrove South Cars)</th>\n",
       "      <th>Volume (Pacific Highway North Cars)</th>\n",
       "      <th>Volume (Pacific Highway South Cars)</th>\n",
       "      <th>Volume (Peace Arch North Cars)</th>\n",
       "      <th>Volume (Peace Arch South Cars)</th>\n",
       "      <th>Volume (Sumas/Huntingdon North Cars)</th>\n",
       "      <th>Volume (Sumas/Huntingdon South Cars)</th>\n",
       "    </tr>\n",
       "  </thead>\n",
       "  <tbody>\n",
       "    <tr>\n",
       "      <th>2007-01-01</th>\n",
       "      <td>NaN</td>\n",
       "      <td>NaN</td>\n",
       "      <td>NaN</td>\n",
       "      <td>1.575540</td>\n",
       "      <td>NaN</td>\n",
       "      <td>NaN</td>\n",
       "      <td>NaN</td>\n",
       "      <td>NaN</td>\n",
       "    </tr>\n",
       "    <tr>\n",
       "      <th>2007-01-02</th>\n",
       "      <td>NaN</td>\n",
       "      <td>NaN</td>\n",
       "      <td>NaN</td>\n",
       "      <td>1.161916</td>\n",
       "      <td>NaN</td>\n",
       "      <td>NaN</td>\n",
       "      <td>NaN</td>\n",
       "      <td>NaN</td>\n",
       "    </tr>\n",
       "    <tr>\n",
       "      <th>2007-01-03</th>\n",
       "      <td>NaN</td>\n",
       "      <td>NaN</td>\n",
       "      <td>NaN</td>\n",
       "      <td>1.050659</td>\n",
       "      <td>NaN</td>\n",
       "      <td>NaN</td>\n",
       "      <td>NaN</td>\n",
       "      <td>NaN</td>\n",
       "    </tr>\n",
       "    <tr>\n",
       "      <th>2007-01-04</th>\n",
       "      <td>NaN</td>\n",
       "      <td>NaN</td>\n",
       "      <td>NaN</td>\n",
       "      <td>0.968114</td>\n",
       "      <td>NaN</td>\n",
       "      <td>NaN</td>\n",
       "      <td>NaN</td>\n",
       "      <td>NaN</td>\n",
       "    </tr>\n",
       "    <tr>\n",
       "      <th>2007-01-05</th>\n",
       "      <td>NaN</td>\n",
       "      <td>NaN</td>\n",
       "      <td>NaN</td>\n",
       "      <td>1.086548</td>\n",
       "      <td>NaN</td>\n",
       "      <td>NaN</td>\n",
       "      <td>NaN</td>\n",
       "      <td>NaN</td>\n",
       "    </tr>\n",
       "  </tbody>\n",
       "</table>\n",
       "</div>"
      ],
      "text/plain": [
       "           Volume (Lynden/Aldergrove North Cars)  \\\n",
       "2007-01-01                                   NaN   \n",
       "2007-01-02                                   NaN   \n",
       "2007-01-03                                   NaN   \n",
       "2007-01-04                                   NaN   \n",
       "2007-01-05                                   NaN   \n",
       "\n",
       "           Volume (Lynden/Aldergrove South Cars)  \\\n",
       "2007-01-01                                   NaN   \n",
       "2007-01-02                                   NaN   \n",
       "2007-01-03                                   NaN   \n",
       "2007-01-04                                   NaN   \n",
       "2007-01-05                                   NaN   \n",
       "\n",
       "           Volume (Pacific Highway North Cars)  \\\n",
       "2007-01-01                                 NaN   \n",
       "2007-01-02                                 NaN   \n",
       "2007-01-03                                 NaN   \n",
       "2007-01-04                                 NaN   \n",
       "2007-01-05                                 NaN   \n",
       "\n",
       "            Volume (Pacific Highway South Cars)  \\\n",
       "2007-01-01                             1.575540   \n",
       "2007-01-02                             1.161916   \n",
       "2007-01-03                             1.050659   \n",
       "2007-01-04                             0.968114   \n",
       "2007-01-05                             1.086548   \n",
       "\n",
       "           Volume (Peace Arch North Cars) Volume (Peace Arch South Cars)  \\\n",
       "2007-01-01                            NaN                            NaN   \n",
       "2007-01-02                            NaN                            NaN   \n",
       "2007-01-03                            NaN                            NaN   \n",
       "2007-01-04                            NaN                            NaN   \n",
       "2007-01-05                            NaN                            NaN   \n",
       "\n",
       "           Volume (Sumas/Huntingdon North Cars)  \\\n",
       "2007-01-01                                  NaN   \n",
       "2007-01-02                                  NaN   \n",
       "2007-01-03                                  NaN   \n",
       "2007-01-04                                  NaN   \n",
       "2007-01-05                                  NaN   \n",
       "\n",
       "           Volume (Sumas/Huntingdon South Cars)  \n",
       "2007-01-01                                  NaN  \n",
       "2007-01-02                                  NaN  \n",
       "2007-01-03                                  NaN  \n",
       "2007-01-04                                  NaN  \n",
       "2007-01-05                                  NaN  "
      ]
     },
     "execution_count": 33,
     "metadata": {},
     "output_type": "execute_result"
    }
   ],
   "source": [
    "all_years_df = pd.DataFrame(columns=r_columns, index=cars_by_day.index)\n",
    "all_years_list = []\n",
    "\n",
    "for year in r_years:\n",
    "    year_result = get_ratios_for_column(year, 'Volume (Pacific Highway South Cars)', cars_by_day, cars_by_year)\n",
    "    all_years_list.append(year_result)\n",
    "    \n",
    "good_list = list(itertools.chain.from_iterable(all_years_list))\n",
    "\n",
    "all_years_df['Volume (Pacific Highway South Cars)'] = good_list\n",
    "all_years_df.head()"
   ]
  },
  {
   "cell_type": "code",
   "execution_count": 35,
   "metadata": {
    "collapsed": false
   },
   "outputs": [
    {
     "data": {
      "text/html": [
       "<div>\n",
       "<table border=\"1\" class=\"dataframe\">\n",
       "  <thead>\n",
       "    <tr style=\"text-align: right;\">\n",
       "      <th></th>\n",
       "      <th>Volume (Lynden/Aldergrove North Cars)</th>\n",
       "      <th>Volume (Lynden/Aldergrove South Cars)</th>\n",
       "      <th>Volume (Pacific Highway North Cars)</th>\n",
       "      <th>Volume (Pacific Highway South Cars)</th>\n",
       "      <th>Volume (Peace Arch North Cars)</th>\n",
       "      <th>Volume (Peace Arch South Cars)</th>\n",
       "      <th>Volume (Sumas/Huntingdon North Cars)</th>\n",
       "      <th>Volume (Sumas/Huntingdon South Cars)</th>\n",
       "    </tr>\n",
       "  </thead>\n",
       "  <tbody>\n",
       "    <tr>\n",
       "      <th>2007-01-01</th>\n",
       "      <td>NaN</td>\n",
       "      <td>NaN</td>\n",
       "      <td>NaN</td>\n",
       "      <td>1.575540</td>\n",
       "      <td>NaN</td>\n",
       "      <td>0.798297</td>\n",
       "      <td>NaN</td>\n",
       "      <td>NaN</td>\n",
       "    </tr>\n",
       "    <tr>\n",
       "      <th>2007-01-02</th>\n",
       "      <td>NaN</td>\n",
       "      <td>NaN</td>\n",
       "      <td>NaN</td>\n",
       "      <td>1.161916</td>\n",
       "      <td>0.630024</td>\n",
       "      <td>0.552448</td>\n",
       "      <td>NaN</td>\n",
       "      <td>NaN</td>\n",
       "    </tr>\n",
       "    <tr>\n",
       "      <th>2007-01-03</th>\n",
       "      <td>NaN</td>\n",
       "      <td>NaN</td>\n",
       "      <td>NaN</td>\n",
       "      <td>1.050659</td>\n",
       "      <td>0.917736</td>\n",
       "      <td>0.441143</td>\n",
       "      <td>NaN</td>\n",
       "      <td>NaN</td>\n",
       "    </tr>\n",
       "    <tr>\n",
       "      <th>2007-01-04</th>\n",
       "      <td>NaN</td>\n",
       "      <td>NaN</td>\n",
       "      <td>NaN</td>\n",
       "      <td>0.968114</td>\n",
       "      <td>0.830114</td>\n",
       "      <td>0.479468</td>\n",
       "      <td>NaN</td>\n",
       "      <td>NaN</td>\n",
       "    </tr>\n",
       "    <tr>\n",
       "      <th>2007-01-05</th>\n",
       "      <td>NaN</td>\n",
       "      <td>NaN</td>\n",
       "      <td>NaN</td>\n",
       "      <td>1.086548</td>\n",
       "      <td>0.936371</td>\n",
       "      <td>0.455005</td>\n",
       "      <td>NaN</td>\n",
       "      <td>NaN</td>\n",
       "    </tr>\n",
       "  </tbody>\n",
       "</table>\n",
       "</div>"
      ],
      "text/plain": [
       "            Volume (Lynden/Aldergrove North Cars)  \\\n",
       "2007-01-01                                    NaN   \n",
       "2007-01-02                                    NaN   \n",
       "2007-01-03                                    NaN   \n",
       "2007-01-04                                    NaN   \n",
       "2007-01-05                                    NaN   \n",
       "\n",
       "            Volume (Lynden/Aldergrove South Cars)  \\\n",
       "2007-01-01                                    NaN   \n",
       "2007-01-02                                    NaN   \n",
       "2007-01-03                                    NaN   \n",
       "2007-01-04                                    NaN   \n",
       "2007-01-05                                    NaN   \n",
       "\n",
       "            Volume (Pacific Highway North Cars)  \\\n",
       "2007-01-01                                  NaN   \n",
       "2007-01-02                                  NaN   \n",
       "2007-01-03                                  NaN   \n",
       "2007-01-04                                  NaN   \n",
       "2007-01-05                                  NaN   \n",
       "\n",
       "            Volume (Pacific Highway South Cars)  \\\n",
       "2007-01-01                             1.575540   \n",
       "2007-01-02                             1.161916   \n",
       "2007-01-03                             1.050659   \n",
       "2007-01-04                             0.968114   \n",
       "2007-01-05                             1.086548   \n",
       "\n",
       "            Volume (Peace Arch North Cars)  Volume (Peace Arch South Cars)  \\\n",
       "2007-01-01                             NaN                        0.798297   \n",
       "2007-01-02                        0.630024                        0.552448   \n",
       "2007-01-03                        0.917736                        0.441143   \n",
       "2007-01-04                        0.830114                        0.479468   \n",
       "2007-01-05                        0.936371                        0.455005   \n",
       "\n",
       "            Volume (Sumas/Huntingdon North Cars)  \\\n",
       "2007-01-01                                   NaN   \n",
       "2007-01-02                                   NaN   \n",
       "2007-01-03                                   NaN   \n",
       "2007-01-04                                   NaN   \n",
       "2007-01-05                                   NaN   \n",
       "\n",
       "            Volume (Sumas/Huntingdon South Cars)  \n",
       "2007-01-01                                   NaN  \n",
       "2007-01-02                                   NaN  \n",
       "2007-01-03                                   NaN  \n",
       "2007-01-04                                   NaN  \n",
       "2007-01-05                                   NaN  "
      ]
     },
     "execution_count": 35,
     "metadata": {},
     "output_type": "execute_result"
    }
   ],
   "source": [
    "all_years_df = pd.DataFrame(columns=r_columns, index=cars_by_day.index)\n",
    "for column in r_columns:\n",
    "    \n",
    "    all_years_list = []\n",
    "    \n",
    "    for year in r_years:\n",
    "        year_result = get_ratios_for_column(year, column, cars_by_day, cars_by_year)\n",
    "        all_years_list.append(year_result)\n",
    "\n",
    "\n",
    "    flat_list = list(itertools.chain.from_iterable(all_years_list))\n",
    "    all_years_df[column] = flat_list\n",
    "\n",
    "all_years_df.head()"
   ]
  },
  {
   "cell_type": "code",
   "execution_count": 36,
   "metadata": {
    "collapsed": false
   },
   "outputs": [],
   "source": [
    "north_volumes = ['Volume (Lynden/Aldergrove North Cars)', 'Volume (Pacific Highway North Cars)',\n",
    "                 'Volume (Peace Arch North Cars)', 'Volume (Sumas/Huntingdon North Cars)']\n",
    "\n",
    "south_volumes = ['Volume (Lynden/Aldergrove South Cars)', 'Volume (Pacific Highway South Cars)',\n",
    "                 'Volume (Peace Arch South Cars)', 'Volume (Sumas/Huntingdon South Cars)']"
   ]
  },
  {
   "cell_type": "code",
   "execution_count": 37,
   "metadata": {
    "collapsed": false
   },
   "outputs": [],
   "source": [
    "all_years_df['Norths Means'] = all_years_df[north_volumes].mean(axis=1)\n",
    "all_years_df['Souths Means'] = all_years_df[south_volumes].mean(axis=1)"
   ]
  },
  {
   "cell_type": "code",
   "execution_count": 38,
   "metadata": {
    "collapsed": false
   },
   "outputs": [],
   "source": [
    "graph_df = all_years_df.groupby([all_years_df.index.month, all_years_df.index.day])['Norths Means', 'Souths Means'].mean()\n",
    "graph_df =  (graph_df * 100) - 100\n",
    "graph_df.index = pd.date_range('2016-01-01', '2016-12-31', freq='D')"
   ]
  },
  {
   "cell_type": "code",
   "execution_count": 39,
   "metadata": {
    "collapsed": false
   },
   "outputs": [
    {
     "data": {
      "text/html": [
       "<div>\n",
       "<table border=\"1\" class=\"dataframe\">\n",
       "  <thead>\n",
       "    <tr style=\"text-align: right;\">\n",
       "      <th></th>\n",
       "      <th>Norths Means</th>\n",
       "      <th>Souths Means</th>\n",
       "    </tr>\n",
       "  </thead>\n",
       "  <tbody>\n",
       "    <tr>\n",
       "      <th>2016-01-01</th>\n",
       "      <td>-14.168196</td>\n",
       "      <td>-10.353966</td>\n",
       "    </tr>\n",
       "    <tr>\n",
       "      <th>2016-01-02</th>\n",
       "      <td>-16.304722</td>\n",
       "      <td>2.722588</td>\n",
       "    </tr>\n",
       "    <tr>\n",
       "      <th>2016-01-03</th>\n",
       "      <td>4.230833</td>\n",
       "      <td>0.144105</td>\n",
       "    </tr>\n",
       "    <tr>\n",
       "      <th>2016-01-04</th>\n",
       "      <td>-12.797169</td>\n",
       "      <td>-13.090385</td>\n",
       "    </tr>\n",
       "    <tr>\n",
       "      <th>2016-01-05</th>\n",
       "      <td>-12.765683</td>\n",
       "      <td>-21.876675</td>\n",
       "    </tr>\n",
       "  </tbody>\n",
       "</table>\n",
       "</div>"
      ],
      "text/plain": [
       "            Norths Means  Souths Means\n",
       "2016-01-01    -14.168196    -10.353966\n",
       "2016-01-02    -16.304722      2.722588\n",
       "2016-01-03      4.230833      0.144105\n",
       "2016-01-04    -12.797169    -13.090385\n",
       "2016-01-05    -12.765683    -21.876675"
      ]
     },
     "execution_count": 39,
     "metadata": {},
     "output_type": "execute_result"
    }
   ],
   "source": [
    "graph_df.head()"
   ]
  },
  {
   "cell_type": "code",
   "execution_count": 40,
   "metadata": {
    "collapsed": true
   },
   "outputs": [],
   "source": [
    "#std_graph = graph_df = all_years_df.groupby([all_years_df.index.month, all_years_df.index.day])['Norths Means', 'Souths Means'].std()"
   ]
  },
  {
   "cell_type": "code",
   "execution_count": 41,
   "metadata": {
    "collapsed": false
   },
   "outputs": [],
   "source": [
    "#std_graph.mean()"
   ]
  },
  {
   "cell_type": "markdown",
   "metadata": {},
   "source": [
    "## Vis"
   ]
  },
  {
   "cell_type": "code",
   "execution_count": 42,
   "metadata": {
    "collapsed": false
   },
   "outputs": [],
   "source": [
    "graph_df['North Mean MA'] = pd.rolling_mean(graph_df['Norths Means'], 7)\n",
    "graph_df['South Mean MA'] = pd.rolling_mean(graph_df['Souths Means'], 7)"
   ]
  },
  {
   "cell_type": "code",
   "execution_count": 43,
   "metadata": {
    "collapsed": false
   },
   "outputs": [
    {
     "data": {
      "text/html": [
       "<div>\n",
       "<table border=\"1\" class=\"dataframe\">\n",
       "  <thead>\n",
       "    <tr style=\"text-align: right;\">\n",
       "      <th></th>\n",
       "      <th>Norths Means</th>\n",
       "      <th>Souths Means</th>\n",
       "      <th>North Mean MA</th>\n",
       "      <th>South Mean MA</th>\n",
       "    </tr>\n",
       "  </thead>\n",
       "  <tbody>\n",
       "    <tr>\n",
       "      <th>2016-01-01</th>\n",
       "      <td>-14.168196</td>\n",
       "      <td>-10.353966</td>\n",
       "      <td>NaN</td>\n",
       "      <td>NaN</td>\n",
       "    </tr>\n",
       "    <tr>\n",
       "      <th>2016-01-02</th>\n",
       "      <td>-16.304722</td>\n",
       "      <td>2.722588</td>\n",
       "      <td>NaN</td>\n",
       "      <td>NaN</td>\n",
       "    </tr>\n",
       "    <tr>\n",
       "      <th>2016-01-03</th>\n",
       "      <td>4.230833</td>\n",
       "      <td>0.144105</td>\n",
       "      <td>NaN</td>\n",
       "      <td>NaN</td>\n",
       "    </tr>\n",
       "    <tr>\n",
       "      <th>2016-01-04</th>\n",
       "      <td>-12.797169</td>\n",
       "      <td>-13.090385</td>\n",
       "      <td>NaN</td>\n",
       "      <td>NaN</td>\n",
       "    </tr>\n",
       "    <tr>\n",
       "      <th>2016-01-05</th>\n",
       "      <td>-12.765683</td>\n",
       "      <td>-21.876675</td>\n",
       "      <td>NaN</td>\n",
       "      <td>NaN</td>\n",
       "    </tr>\n",
       "  </tbody>\n",
       "</table>\n",
       "</div>"
      ],
      "text/plain": [
       "            Norths Means  Souths Means  North Mean MA  South Mean MA\n",
       "2016-01-01    -14.168196    -10.353966            NaN            NaN\n",
       "2016-01-02    -16.304722      2.722588            NaN            NaN\n",
       "2016-01-03      4.230833      0.144105            NaN            NaN\n",
       "2016-01-04    -12.797169    -13.090385            NaN            NaN\n",
       "2016-01-05    -12.765683    -21.876675            NaN            NaN"
      ]
     },
     "execution_count": 43,
     "metadata": {},
     "output_type": "execute_result"
    }
   ],
   "source": [
    "graph_df.index = pd.date_range('2016-01-01', '2016-12-31', freq='D')\n",
    "graph_df.head()"
   ]
  },
  {
   "cell_type": "code",
   "execution_count": 44,
   "metadata": {
    "collapsed": false
   },
   "outputs": [
    {
     "data": {
      "image/png": "[encoded data removed]",
      "text/plain": [
       "<matplotlib.figure.Figure at 0x7f8f354dfb10>"
      ]
     },
     "metadata": {},
     "output_type": "display_data"
    }
   ],
   "source": [
    "labels = ['Jan','Feb','Mar','Apr','May','Jun','Jul','Aug','Sep','Oct','Nov','Dec']\n",
    "x_ticks = ['2016-01-01', '2016-02-01', '2016-03-01', '2016-04-01', '2016-05-01', '2016-06-01', \n",
    "           '2016-07-01', '2016-08-01', '2016-09-01', '2016-10-01', '2016-11-01', '2016-12-01', ]\n",
    "\n",
    "with plt.style.context('fivethirtyeight'):\n",
    "    plt.figure(figsize=(16,12))\n",
    "    \n",
    "    \n",
    "    plt.plot(graph_df['Norths Means'], 'bo')\n",
    "    plt.plot(graph_df['Souths Means'], 'ro')\n",
    "    plt.axhline(linewidth=2, color='black')\n",
    "    line1, = plt.plot(graph_df['North Mean MA'], 'b', linewidth=7)\n",
    "    line2, = plt.plot(graph_df['South Mean MA'], 'r', linewidth=7)\n",
    "    \n",
    "                                               \n",
    "    first_legend = plt.legend(labels=['Southbound to USA', 'Northbound to Canada'], fontsize=12, frameon=True)\n",
    "    ax = plt.gca().add_artist(first_legend)\n",
    "    \n",
    "    \n",
    "    plt.legend(handles=[line1, line2], loc='lower left', fontsize=12, frameon=True, labels=['Southbound 7-day Moving Average', 'Northbound 7-day Moving Average'])\n",
    "    plt.xticks(x_ticks, labels)\n",
    "    plt.title('Border Traffic Volumes by Day as a Percentage of Annual Averages, 2007-2016')\n",
    "    plt.ylabel('Avg Day to Year Ratio (%)')\n",
    "    \n",
    "    plt.savefig('fig.png', dpi=100)\n",
    "    plt.show()"
   ]
  },
  {
   "cell_type": "markdown",
   "metadata": {},
   "source": [
    "## NEXUS"
   ]
  },
  {
   "cell_type": "code",
   "execution_count": 62,
   "metadata": {
    "collapsed": false
   },
   "outputs": [],
   "source": [
    "delay_df = df[delays]"
   ]
  },
  {
   "cell_type": "code",
   "execution_count": 70,
   "metadata": {
    "collapsed": false
   },
   "outputs": [],
   "source": [
    "nexus_delay_df = get_df_from_mutual_columns(delay_df, nexus)\n",
    "car_delay_df = get_df_from_mutual_columns(delay_df, cars)"
   ]
  },
  {
   "cell_type": "code",
   "execution_count": 82,
   "metadata": {
    "collapsed": false
   },
   "outputs": [],
   "source": [
    "nexus_list = nexus_delay_df.columns.tolist()\n",
    "some_cars_list = []\n",
    "\n",
    "for crossing in nexus_delay_df:\n",
    "    some_cars_list.append(crossing.replace('NEXUS', \"Cars\"))"
   ]
  },
  {
   "cell_type": "code",
   "execution_count": 83,
   "metadata": {
    "collapsed": false
   },
   "outputs": [
    {
     "data": {
      "text/plain": [
       "['Delay (Pacific Highway North Cars)',\n",
       " 'Delay (Pacific Highway South Cars)',\n",
       " 'Delay (Peace Arch North Cars)',\n",
       " 'Delay (Peace Arch South Cars)']"
      ]
     },
     "execution_count": 83,
     "metadata": {},
     "output_type": "execute_result"
    }
   ],
   "source": [
    "some_cars_list"
   ]
  },
  {
   "cell_type": "code",
   "execution_count": 85,
   "metadata": {
    "collapsed": true
   },
   "outputs": [],
   "source": [
    "some_cars_df = get_df_from_mutual_columns(car_delay_df, some_cars_list)"
   ]
  },
  {
   "cell_type": "code",
   "execution_count": 89,
   "metadata": {
    "collapsed": false
   },
   "outputs": [
    {
     "data": {
      "text/plain": [
       "True"
      ]
     },
     "execution_count": 89,
     "metadata": {},
     "output_type": "execute_result"
    }
   ],
   "source": [
    "len(some_cars_df) == len(nexus_delay_df)"
   ]
  },
  {
   "cell_type": "code",
   "execution_count": 101,
   "metadata": {
    "collapsed": true
   },
   "outputs": [],
   "source": [
    "nexus_vs_df = pd.concat([some_cars_df, nexus_delay_df], axis=1)\n",
    "nexus_vs_df = nexus_vs_df.ix[nexus_vs_df.index.hour >= 6]\n",
    "nexus_vs_df = nexus_vs_df.ix[nexus_vs_df.index.hour < 22]"
   ]
  },
  {
   "cell_type": "code",
   "execution_count": 126,
   "metadata": {
    "collapsed": false
   },
   "outputs": [],
   "source": [
    "grouped_by_day_nexus = nexus_vs_df.groupby(nexus_vs_df.index.hour).mean()"
   ]
  },
  {
   "cell_type": "code",
   "execution_count": 109,
   "metadata": {
    "collapsed": false
   },
   "outputs": [],
   "source": [
    "norths_list = ['Delay (Pacific Highway North Cars)',  'Delay (Peace Arch North Cars)',\n",
    "               'Delay (Pacific Highway North NEXUS)', 'Delay (Peace Arch North NEXUS)']\n",
    "souths_list = ['Delay (Pacific Highway South Cars)', 'Delay (Peace Arch South Cars)',\n",
    "               'Delay (Pacific Highway South NEXUS)','Delay (Peace Arch South NEXUS)']"
   ]
  },
  {
   "cell_type": "code",
   "execution_count": 114,
   "metadata": {
    "collapsed": false
   },
   "outputs": [
    {
     "data": {
      "text/plain": [
       "<matplotlib.axes._subplots.AxesSubplot at 0x7f6f45ab4990>"
      ]
     },
     "execution_count": 114,
     "metadata": {},
     "output_type": "execute_result"
    },
    {
     "data": {
      "image/png": "[encoded data removed]",
      "text/plain": [
       "<matplotlib.figure.Figure at 0x7f6f45c71390>"
      ]
     },
     "metadata": {},
     "output_type": "display_data"
    },
    {
     "data": {
      "image/png": "[encoded data removed]",
      "text/plain": [
       "<matplotlib.figure.Figure at 0x7f6f4e023a50>"
      ]
     },
     "metadata": {},
     "output_type": "display_data"
    }
   ],
   "source": [
    "grouped_by_day_nexus[norths_list].plot()\n",
    "grouped_by_day_nexus[souths_list].plot()"
   ]
  },
  {
   "cell_type": "code",
   "execution_count": 122,
   "metadata": {
    "collapsed": false
   },
   "outputs": [
    {
     "data": {
      "text/html": [
       "<div>\n",
       "<table border=\"1\" class=\"dataframe\">\n",
       "  <thead>\n",
       "    <tr style=\"text-align: right;\">\n",
       "      <th></th>\n",
       "      <th>Delay (Pacific Highway North Cars)</th>\n",
       "      <th>Delay (Pacific Highway South Cars)</th>\n",
       "      <th>Delay (Peace Arch North Cars)</th>\n",
       "      <th>Delay (Peace Arch South Cars)</th>\n",
       "      <th>Delay (Pacific Highway North NEXUS)</th>\n",
       "      <th>Delay (Pacific Highway South NEXUS)</th>\n",
       "      <th>Delay (Peace Arch North NEXUS)</th>\n",
       "      <th>Delay (Peace Arch South NEXUS)</th>\n",
       "    </tr>\n",
       "  </thead>\n",
       "  <tbody>\n",
       "    <tr>\n",
       "      <th>0</th>\n",
       "      <td>14.600864</td>\n",
       "      <td>16.358364</td>\n",
       "      <td>16.686632</td>\n",
       "      <td>21.645367</td>\n",
       "      <td>3.132696</td>\n",
       "      <td>3.626674</td>\n",
       "      <td>8.406683</td>\n",
       "      <td>6.827230</td>\n",
       "    </tr>\n",
       "    <tr>\n",
       "      <th>1</th>\n",
       "      <td>11.153767</td>\n",
       "      <td>12.515967</td>\n",
       "      <td>12.874174</td>\n",
       "      <td>16.336142</td>\n",
       "      <td>2.337345</td>\n",
       "      <td>2.858720</td>\n",
       "      <td>3.067508</td>\n",
       "      <td>5.276699</td>\n",
       "    </tr>\n",
       "    <tr>\n",
       "      <th>2</th>\n",
       "      <td>12.940451</td>\n",
       "      <td>12.940588</td>\n",
       "      <td>14.402057</td>\n",
       "      <td>17.273549</td>\n",
       "      <td>2.450280</td>\n",
       "      <td>3.027510</td>\n",
       "      <td>2.921473</td>\n",
       "      <td>5.463779</td>\n",
       "    </tr>\n",
       "    <tr>\n",
       "      <th>3</th>\n",
       "      <td>11.871251</td>\n",
       "      <td>14.722903</td>\n",
       "      <td>13.861524</td>\n",
       "      <td>18.719571</td>\n",
       "      <td>2.527969</td>\n",
       "      <td>3.823766</td>\n",
       "      <td>3.172468</td>\n",
       "      <td>6.400558</td>\n",
       "    </tr>\n",
       "    <tr>\n",
       "      <th>4</th>\n",
       "      <td>12.767217</td>\n",
       "      <td>17.793800</td>\n",
       "      <td>14.822717</td>\n",
       "      <td>22.733814</td>\n",
       "      <td>3.200179</td>\n",
       "      <td>6.155798</td>\n",
       "      <td>3.142190</td>\n",
       "      <td>8.702811</td>\n",
       "    </tr>\n",
       "    <tr>\n",
       "      <th>5</th>\n",
       "      <td>16.904837</td>\n",
       "      <td>21.921645</td>\n",
       "      <td>19.604400</td>\n",
       "      <td>27.725483</td>\n",
       "      <td>3.565775</td>\n",
       "      <td>6.186445</td>\n",
       "      <td>3.806095</td>\n",
       "      <td>9.133468</td>\n",
       "    </tr>\n",
       "    <tr>\n",
       "      <th>6</th>\n",
       "      <td>19.255503</td>\n",
       "      <td>17.010879</td>\n",
       "      <td>20.756409</td>\n",
       "      <td>23.337536</td>\n",
       "      <td>3.890672</td>\n",
       "      <td>3.560217</td>\n",
       "      <td>5.187867</td>\n",
       "      <td>7.671329</td>\n",
       "    </tr>\n",
       "  </tbody>\n",
       "</table>\n",
       "</div>"
      ],
      "text/plain": [
       "   Delay (Pacific Highway North Cars)  Delay (Pacific Highway South Cars)  \\\n",
       "0                           14.600864                           16.358364   \n",
       "1                           11.153767                           12.515967   \n",
       "2                           12.940451                           12.940588   \n",
       "3                           11.871251                           14.722903   \n",
       "4                           12.767217                           17.793800   \n",
       "5                           16.904837                           21.921645   \n",
       "6                           19.255503                           17.010879   \n",
       "\n",
       "   Delay (Peace Arch North Cars)  Delay (Peace Arch South Cars)  \\\n",
       "0                      16.686632                      21.645367   \n",
       "1                      12.874174                      16.336142   \n",
       "2                      14.402057                      17.273549   \n",
       "3                      13.861524                      18.719571   \n",
       "4                      14.822717                      22.733814   \n",
       "5                      19.604400                      27.725483   \n",
       "6                      20.756409                      23.337536   \n",
       "\n",
       "   Delay (Pacific Highway North NEXUS)  Delay (Pacific Highway South NEXUS)  \\\n",
       "0                             3.132696                             3.626674   \n",
       "1                             2.337345                             2.858720   \n",
       "2                             2.450280                             3.027510   \n",
       "3                             2.527969                             3.823766   \n",
       "4                             3.200179                             6.155798   \n",
       "5                             3.565775                             6.186445   \n",
       "6                             3.890672                             3.560217   \n",
       "\n",
       "   Delay (Peace Arch North NEXUS)  Delay (Peace Arch South NEXUS)  \n",
       "0                        8.406683                        6.827230  \n",
       "1                        3.067508                        5.276699  \n",
       "2                        2.921473                        5.463779  \n",
       "3                        3.172468                        6.400558  \n",
       "4                        3.142190                        8.702811  \n",
       "5                        3.806095                        9.133468  \n",
       "6                        5.187867                        7.671329  "
      ]
     },
     "execution_count": 122,
     "metadata": {},
     "output_type": "execute_result"
    }
   ],
   "source": [
    "grouped_by_dayofweek_nexus = nexus_vs_df.groupby(nexus_vs_df.index.dayofweek).mean()\n",
    "nexus_vs_df.groupby(nexus_vs_df.index.dayofweek).std()"
   ]
  },
  {
   "cell_type": "code",
   "execution_count": 120,
   "metadata": {
    "collapsed": false
   },
   "outputs": [
    {
     "data": {
      "text/plain": [
       "<matplotlib.axes._subplots.AxesSubplot at 0x7f6f4596fb50>"
      ]
     },
     "execution_count": 120,
     "metadata": {},
     "output_type": "execute_result"
    },
    {
     "data": {
      "image/png": "[encoded data removed]",
      "text/plain": [
       "<matplotlib.figure.Figure at 0x7f6f4600f210>"
      ]
     },
     "metadata": {},
     "output_type": "display_data"
    },
    {
     "data": {
      "image/png": "[encoded data removed]",
      "text/plain": [
       "<matplotlib.figure.Figure at 0x7f6f45c5aa10>"
      ]
     },
     "metadata": {},
     "output_type": "display_data"
    }
   ],
   "source": [
    "grouped_by_dayofweek_nexus[norths_list].plot()\n",
    "grouped_by_dayofweek_nexus[souths_list].plot()"
   ]
  },
  {
   "cell_type": "code",
   "execution_count": 129,
   "metadata": {
    "collapsed": false
   },
   "outputs": [
    {
     "data": {
      "text/plain": [
       "<matplotlib.axes._subplots.AxesSubplot at 0x7f6f457dffd0>"
      ]
     },
     "execution_count": 129,
     "metadata": {},
     "output_type": "execute_result"
    },
    {
     "data": {
      "image/png": "[encoded data removed]",
      "text/plain": [
       "<matplotlib.figure.Figure at 0x7f6f459061d0>"
      ]
     },
     "metadata": {},
     "output_type": "display_data"
    }
   ],
   "source": [
    "nexus_vs_df[norths_list].groupby(nexus_vs_df.index.year).mean().plot()"
   ]
  },
  {
   "cell_type": "code",
   "execution_count": 130,
   "metadata": {
    "collapsed": false
   },
   "outputs": [
    {
     "data": {
      "text/plain": [
       "<matplotlib.axes._subplots.AxesSubplot at 0x7f6f4568cad0>"
      ]
     },
     "execution_count": 130,
     "metadata": {},
     "output_type": "execute_result"
    },
    {
     "data": {
      "image/png": "[encoded data removed]",
      "text/plain": [
       "<matplotlib.figure.Figure at 0x7f6f45785dd0>"
      ]
     },
     "metadata": {},
     "output_type": "display_data"
    }
   ],
   "source": [
    "nexus_vs_df[souths_list].groupby(nexus_vs_df.index.year).mean().plot()"
   ]
  },
  {
   "cell_type": "code",
   "execution_count": 132,
   "metadata": {
    "collapsed": false,
    "scrolled": true
   },
   "outputs": [
    {
     "data": {
      "text/plain": [
       "<matplotlib.axes._subplots.AxesSubplot at 0x7f6f455f7110>"
      ]
     },
     "execution_count": 132,
     "metadata": {},
     "output_type": "execute_result"
    },
    {
     "data": {
      "image/png": "[encoded data removed]",
      "text/plain": [
       "<matplotlib.figure.Figure at 0x7f6f46064410>"
      ]
     },
     "metadata": {},
     "output_type": "display_data"
    }
   ],
   "source": [
    "nexus_vs_df[souths_list].groupby([nexus_vs_df.index.year, nexus_vs_df.index.month]).mean().plot()"
   ]
  },
  {
   "cell_type": "code",
   "execution_count": 131,
   "metadata": {
    "collapsed": false
   },
   "outputs": [
    {
     "data": {
      "text/html": [
       "<div>\n",
       "<table border=\"1\" class=\"dataframe\">\n",
       "  <thead>\n",
       "    <tr style=\"text-align: right;\">\n",
       "      <th></th>\n",
       "      <th>Availability (Lynden/Aldergrove North Cars)</th>\n",
       "      <th>Availability (Lynden/Aldergrove North Trucks)</th>\n",
       "      <th>Availability (Lynden/Aldergrove South Cars)</th>\n",
       "      <th>Availability (Lynden/Aldergrove South Trucks)</th>\n",
       "      <th>Availability (Pacific Highway North Bus)</th>\n",
       "      <th>Availability (Pacific Highway North Cars)</th>\n",
       "      <th>Availability (Pacific Highway North FAST)</th>\n",
       "      <th>Availability (Pacific Highway North NEXUS)</th>\n",
       "      <th>Availability (Pacific Highway North Trucks)</th>\n",
       "      <th>Availability (Pacific Highway South Bus)</th>\n",
       "      <th>...</th>\n",
       "      <th>Volume (Pacific Highway South FAST)</th>\n",
       "      <th>Volume (Pacific Highway South NEXUS)</th>\n",
       "      <th>Volume (Pacific Highway South Trucks)</th>\n",
       "      <th>Volume (Peace Arch North Cars)</th>\n",
       "      <th>Volume (Peace Arch North NEXUS)</th>\n",
       "      <th>Volume (Peace Arch South Cars)</th>\n",
       "      <th>Volume (Peace Arch South NEXUS)</th>\n",
       "      <th>Volume (Sumas/Huntingdon North Cars)</th>\n",
       "      <th>Volume (Sumas/Huntingdon North Trucks)</th>\n",
       "      <th>Volume (Sumas/Huntingdon South Cars)</th>\n",
       "    </tr>\n",
       "    <tr>\n",
       "      <th>Starts</th>\n",
       "      <th></th>\n",
       "      <th></th>\n",
       "      <th></th>\n",
       "      <th></th>\n",
       "      <th></th>\n",
       "      <th></th>\n",
       "      <th></th>\n",
       "      <th></th>\n",
       "      <th></th>\n",
       "      <th></th>\n",
       "      <th></th>\n",
       "      <th></th>\n",
       "      <th></th>\n",
       "      <th></th>\n",
       "      <th></th>\n",
       "      <th></th>\n",
       "      <th></th>\n",
       "      <th></th>\n",
       "      <th></th>\n",
       "      <th></th>\n",
       "      <th></th>\n",
       "    </tr>\n",
       "  </thead>\n",
       "  <tbody>\n",
       "    <tr>\n",
       "      <th>2007-01-01 00:00:00</th>\n",
       "      <td>NaN</td>\n",
       "      <td>NaN</td>\n",
       "      <td>NaN</td>\n",
       "      <td>NaN</td>\n",
       "      <td>NaN</td>\n",
       "      <td>NaN</td>\n",
       "      <td>NaN</td>\n",
       "      <td>NaN</td>\n",
       "      <td>NaN</td>\n",
       "      <td>NaN</td>\n",
       "      <td>...</td>\n",
       "      <td>NaN</td>\n",
       "      <td>0</td>\n",
       "      <td>0</td>\n",
       "      <td>NaN</td>\n",
       "      <td>NaN</td>\n",
       "      <td>3</td>\n",
       "      <td>0</td>\n",
       "      <td>NaN</td>\n",
       "      <td>NaN</td>\n",
       "      <td>NaN</td>\n",
       "    </tr>\n",
       "    <tr>\n",
       "      <th>2007-01-01 00:05:00</th>\n",
       "      <td>NaN</td>\n",
       "      <td>NaN</td>\n",
       "      <td>NaN</td>\n",
       "      <td>NaN</td>\n",
       "      <td>NaN</td>\n",
       "      <td>NaN</td>\n",
       "      <td>NaN</td>\n",
       "      <td>NaN</td>\n",
       "      <td>NaN</td>\n",
       "      <td>NaN</td>\n",
       "      <td>...</td>\n",
       "      <td>NaN</td>\n",
       "      <td>0</td>\n",
       "      <td>0</td>\n",
       "      <td>NaN</td>\n",
       "      <td>NaN</td>\n",
       "      <td>2</td>\n",
       "      <td>0</td>\n",
       "      <td>NaN</td>\n",
       "      <td>NaN</td>\n",
       "      <td>NaN</td>\n",
       "    </tr>\n",
       "    <tr>\n",
       "      <th>2007-01-01 00:10:00</th>\n",
       "      <td>NaN</td>\n",
       "      <td>NaN</td>\n",
       "      <td>NaN</td>\n",
       "      <td>NaN</td>\n",
       "      <td>NaN</td>\n",
       "      <td>NaN</td>\n",
       "      <td>NaN</td>\n",
       "      <td>NaN</td>\n",
       "      <td>NaN</td>\n",
       "      <td>NaN</td>\n",
       "      <td>...</td>\n",
       "      <td>NaN</td>\n",
       "      <td>0</td>\n",
       "      <td>0</td>\n",
       "      <td>NaN</td>\n",
       "      <td>NaN</td>\n",
       "      <td>2</td>\n",
       "      <td>0</td>\n",
       "      <td>NaN</td>\n",
       "      <td>NaN</td>\n",
       "      <td>NaN</td>\n",
       "    </tr>\n",
       "    <tr>\n",
       "      <th>2007-01-01 00:15:00</th>\n",
       "      <td>NaN</td>\n",
       "      <td>NaN</td>\n",
       "      <td>NaN</td>\n",
       "      <td>NaN</td>\n",
       "      <td>NaN</td>\n",
       "      <td>NaN</td>\n",
       "      <td>NaN</td>\n",
       "      <td>NaN</td>\n",
       "      <td>NaN</td>\n",
       "      <td>NaN</td>\n",
       "      <td>...</td>\n",
       "      <td>NaN</td>\n",
       "      <td>0</td>\n",
       "      <td>1</td>\n",
       "      <td>NaN</td>\n",
       "      <td>NaN</td>\n",
       "      <td>0</td>\n",
       "      <td>0</td>\n",
       "      <td>NaN</td>\n",
       "      <td>NaN</td>\n",
       "      <td>NaN</td>\n",
       "    </tr>\n",
       "    <tr>\n",
       "      <th>2007-01-01 00:20:00</th>\n",
       "      <td>NaN</td>\n",
       "      <td>NaN</td>\n",
       "      <td>NaN</td>\n",
       "      <td>NaN</td>\n",
       "      <td>NaN</td>\n",
       "      <td>NaN</td>\n",
       "      <td>NaN</td>\n",
       "      <td>NaN</td>\n",
       "      <td>NaN</td>\n",
       "      <td>NaN</td>\n",
       "      <td>...</td>\n",
       "      <td>NaN</td>\n",
       "      <td>0</td>\n",
       "      <td>0</td>\n",
       "      <td>NaN</td>\n",
       "      <td>NaN</td>\n",
       "      <td>0</td>\n",
       "      <td>0</td>\n",
       "      <td>NaN</td>\n",
       "      <td>NaN</td>\n",
       "      <td>NaN</td>\n",
       "    </tr>\n",
       "  </tbody>\n",
       "</table>\n",
       "<p>5 rows × 126 columns</p>\n",
       "</div>"
      ],
      "text/plain": [
       "                     Availability (Lynden/Aldergrove North Cars)  \\\n",
       "Starts                                                             \n",
       "2007-01-01 00:00:00                                          NaN   \n",
       "2007-01-01 00:05:00                                          NaN   \n",
       "2007-01-01 00:10:00                                          NaN   \n",
       "2007-01-01 00:15:00                                          NaN   \n",
       "2007-01-01 00:20:00                                          NaN   \n",
       "\n",
       "                     Availability (Lynden/Aldergrove North Trucks)  \\\n",
       "Starts                                                               \n",
       "2007-01-01 00:00:00                                            NaN   \n",
       "2007-01-01 00:05:00                                            NaN   \n",
       "2007-01-01 00:10:00                                            NaN   \n",
       "2007-01-01 00:15:00                                            NaN   \n",
       "2007-01-01 00:20:00                                            NaN   \n",
       "\n",
       "                     Availability (Lynden/Aldergrove South Cars)  \\\n",
       "Starts                                                             \n",
       "2007-01-01 00:00:00                                          NaN   \n",
       "2007-01-01 00:05:00                                          NaN   \n",
       "2007-01-01 00:10:00                                          NaN   \n",
       "2007-01-01 00:15:00                                          NaN   \n",
       "2007-01-01 00:20:00                                          NaN   \n",
       "\n",
       "                     Availability (Lynden/Aldergrove South Trucks)  \\\n",
       "Starts                                                               \n",
       "2007-01-01 00:00:00                                            NaN   \n",
       "2007-01-01 00:05:00                                            NaN   \n",
       "2007-01-01 00:10:00                                            NaN   \n",
       "2007-01-01 00:15:00                                            NaN   \n",
       "2007-01-01 00:20:00                                            NaN   \n",
       "\n",
       "                     Availability (Pacific Highway North Bus)  \\\n",
       "Starts                                                          \n",
       "2007-01-01 00:00:00                                       NaN   \n",
       "2007-01-01 00:05:00                                       NaN   \n",
       "2007-01-01 00:10:00                                       NaN   \n",
       "2007-01-01 00:15:00                                       NaN   \n",
       "2007-01-01 00:20:00                                       NaN   \n",
       "\n",
       "                     Availability (Pacific Highway North Cars)  \\\n",
       "Starts                                                           \n",
       "2007-01-01 00:00:00                                        NaN   \n",
       "2007-01-01 00:05:00                                        NaN   \n",
       "2007-01-01 00:10:00                                        NaN   \n",
       "2007-01-01 00:15:00                                        NaN   \n",
       "2007-01-01 00:20:00                                        NaN   \n",
       "\n",
       "                     Availability (Pacific Highway North FAST)  \\\n",
       "Starts                                                           \n",
       "2007-01-01 00:00:00                                        NaN   \n",
       "2007-01-01 00:05:00                                        NaN   \n",
       "2007-01-01 00:10:00                                        NaN   \n",
       "2007-01-01 00:15:00                                        NaN   \n",
       "2007-01-01 00:20:00                                        NaN   \n",
       "\n",
       "                     Availability (Pacific Highway North NEXUS)  \\\n",
       "Starts                                                            \n",
       "2007-01-01 00:00:00                                         NaN   \n",
       "2007-01-01 00:05:00                                         NaN   \n",
       "2007-01-01 00:10:00                                         NaN   \n",
       "2007-01-01 00:15:00                                         NaN   \n",
       "2007-01-01 00:20:00                                         NaN   \n",
       "\n",
       "                     Availability (Pacific Highway North Trucks)  \\\n",
       "Starts                                                             \n",
       "2007-01-01 00:00:00                                          NaN   \n",
       "2007-01-01 00:05:00                                          NaN   \n",
       "2007-01-01 00:10:00                                          NaN   \n",
       "2007-01-01 00:15:00                                          NaN   \n",
       "2007-01-01 00:20:00                                          NaN   \n",
       "\n",
       "                     Availability (Pacific Highway South Bus)  \\\n",
       "Starts                                                          \n",
       "2007-01-01 00:00:00                                       NaN   \n",
       "2007-01-01 00:05:00                                       NaN   \n",
       "2007-01-01 00:10:00                                       NaN   \n",
       "2007-01-01 00:15:00                                       NaN   \n",
       "2007-01-01 00:20:00                                       NaN   \n",
       "\n",
       "                                     ...                   \\\n",
       "Starts                               ...                    \n",
       "2007-01-01 00:00:00                  ...                    \n",
       "2007-01-01 00:05:00                  ...                    \n",
       "2007-01-01 00:10:00                  ...                    \n",
       "2007-01-01 00:15:00                  ...                    \n",
       "2007-01-01 00:20:00                  ...                    \n",
       "\n",
       "                     Volume (Pacific Highway South FAST)  \\\n",
       "Starts                                                     \n",
       "2007-01-01 00:00:00                                  NaN   \n",
       "2007-01-01 00:05:00                                  NaN   \n",
       "2007-01-01 00:10:00                                  NaN   \n",
       "2007-01-01 00:15:00                                  NaN   \n",
       "2007-01-01 00:20:00                                  NaN   \n",
       "\n",
       "                     Volume (Pacific Highway South NEXUS)  \\\n",
       "Starts                                                      \n",
       "2007-01-01 00:00:00                                     0   \n",
       "2007-01-01 00:05:00                                     0   \n",
       "2007-01-01 00:10:00                                     0   \n",
       "2007-01-01 00:15:00                                     0   \n",
       "2007-01-01 00:20:00                                     0   \n",
       "\n",
       "                     Volume (Pacific Highway South Trucks)  \\\n",
       "Starts                                                       \n",
       "2007-01-01 00:00:00                                      0   \n",
       "2007-01-01 00:05:00                                      0   \n",
       "2007-01-01 00:10:00                                      0   \n",
       "2007-01-01 00:15:00                                      1   \n",
       "2007-01-01 00:20:00                                      0   \n",
       "\n",
       "                     Volume (Peace Arch North Cars)  \\\n",
       "Starts                                                \n",
       "2007-01-01 00:00:00                             NaN   \n",
       "2007-01-01 00:05:00                             NaN   \n",
       "2007-01-01 00:10:00                             NaN   \n",
       "2007-01-01 00:15:00                             NaN   \n",
       "2007-01-01 00:20:00                             NaN   \n",
       "\n",
       "                     Volume (Peace Arch North NEXUS)  \\\n",
       "Starts                                                 \n",
       "2007-01-01 00:00:00                              NaN   \n",
       "2007-01-01 00:05:00                              NaN   \n",
       "2007-01-01 00:10:00                              NaN   \n",
       "2007-01-01 00:15:00                              NaN   \n",
       "2007-01-01 00:20:00                              NaN   \n",
       "\n",
       "                     Volume (Peace Arch South Cars)  \\\n",
       "Starts                                                \n",
       "2007-01-01 00:00:00                               3   \n",
       "2007-01-01 00:05:00                               2   \n",
       "2007-01-01 00:10:00                               2   \n",
       "2007-01-01 00:15:00                               0   \n",
       "2007-01-01 00:20:00                               0   \n",
       "\n",
       "                     Volume (Peace Arch South NEXUS)  \\\n",
       "Starts                                                 \n",
       "2007-01-01 00:00:00                                0   \n",
       "2007-01-01 00:05:00                                0   \n",
       "2007-01-01 00:10:00                                0   \n",
       "2007-01-01 00:15:00                                0   \n",
       "2007-01-01 00:20:00                                0   \n",
       "\n",
       "                     Volume (Sumas/Huntingdon North Cars)  \\\n",
       "Starts                                                      \n",
       "2007-01-01 00:00:00                                   NaN   \n",
       "2007-01-01 00:05:00                                   NaN   \n",
       "2007-01-01 00:10:00                                   NaN   \n",
       "2007-01-01 00:15:00                                   NaN   \n",
       "2007-01-01 00:20:00                                   NaN   \n",
       "\n",
       "                     Volume (Sumas/Huntingdon North Trucks)  \\\n",
       "Starts                                                        \n",
       "2007-01-01 00:00:00                                     NaN   \n",
       "2007-01-01 00:05:00                                     NaN   \n",
       "2007-01-01 00:10:00                                     NaN   \n",
       "2007-01-01 00:15:00                                     NaN   \n",
       "2007-01-01 00:20:00                                     NaN   \n",
       "\n",
       "                     Volume (Sumas/Huntingdon South Cars)  \n",
       "Starts                                                     \n",
       "2007-01-01 00:00:00                                   NaN  \n",
       "2007-01-01 00:05:00                                   NaN  \n",
       "2007-01-01 00:10:00                                   NaN  \n",
       "2007-01-01 00:15:00                                   NaN  \n",
       "2007-01-01 00:20:00                                   NaN  \n",
       "\n",
       "[5 rows x 126 columns]"
      ]
     },
     "execution_count": 131,
     "metadata": {},
     "output_type": "execute_result"
    }
   ],
   "source": [
    "df.head()"
   ]
  },
  {
   "cell_type": "markdown",
   "metadata": {},
   "source": [
    "## Machine Learning"
   ]
  },
  {
   "cell_type": "code",
   "execution_count": 6,
   "metadata": {
    "collapsed": false
   },
   "outputs": [],
   "source": [
    "ml_df = df[['Delay (Pacific Highway South Cars)', 'Volume (Pacific Highway South Cars)']]"
   ]
  },
  {
   "cell_type": "code",
   "execution_count": 7,
   "metadata": {
    "collapsed": false,
    "scrolled": true
   },
   "outputs": [],
   "source": [
    "#ml_df.plot()"
   ]
  },
  {
   "cell_type": "code",
   "execution_count": 8,
   "metadata": {
    "collapsed": false
   },
   "outputs": [],
   "source": [
    "dollar_data = pd.read_csv('lookup.csv')"
   ]
  },
  {
   "cell_type": "code",
   "execution_count": 9,
   "metadata": {
    "collapsed": false
   },
   "outputs": [
    {
     "name": "stdout",
     "output_type": "stream",
     "text": [
      "Date                object\n",
      "USD                float64\n",
      "Conversion rate    float64\n",
      "Reciprocal rate    float64\n",
      "dtype: object\n"
     ]
    },
    {
     "name": "stderr",
     "output_type": "stream",
     "text": [
      "/home/captain_eli/anaconda2/lib/python2.7/site-packages/ipykernel/__main__.py:4: FutureWarning: convert_objects is deprecated.  Use the data-type specific converters pd.to_datetime, pd.to_timedelta and pd.to_numeric.\n"
     ]
    }
   ],
   "source": [
    "dollar_data = dollar_data.iloc[::-1]\n",
    "dollar_data.index = pd.bdate_range(\"2007-01-01\", \"2016-01-15\")\n",
    "dollar_data.ix[dollar_data['Conversion rate'] == \"Bank holiday\", ['USD', 'Conversion rate', 'Reciprocal rate']] = pd.np\n",
    "dollar_data = dollar_data.convert_objects(convert_numeric=True)\n",
    "print dollar_data.dtypes\n",
    "dollar_data = dollar_data.resample('5T', fill_method='bfill')"
   ]
  },
  {
   "cell_type": "code",
   "execution_count": 10,
   "metadata": {
    "collapsed": true
   },
   "outputs": [],
   "source": [
    "dollar_data = dollar_data[:len(dollar_data)-1]"
   ]
  },
  {
   "cell_type": "code",
   "execution_count": 11,
   "metadata": {
    "collapsed": false
   },
   "outputs": [
    {
     "data": {
      "text/plain": [
       "True"
      ]
     },
     "execution_count": 11,
     "metadata": {},
     "output_type": "execute_result"
    }
   ],
   "source": [
    "len(ml_df) == len(dollar_data)"
   ]
  },
  {
   "cell_type": "markdown",
   "metadata": {},
   "source": [
    "#### Gas Prices"
   ]
  },
  {
   "cell_type": "code",
   "execution_count": 12,
   "metadata": {
    "collapsed": false
   },
   "outputs": [],
   "source": [
    "gas_df = pd.read_excel('EMM_EPM0_PTE_NUS_DPGw (1).xls')\n",
    "del gas_df['Date']"
   ]
  },
  {
   "cell_type": "code",
   "execution_count": 13,
   "metadata": {
    "collapsed": false
   },
   "outputs": [],
   "source": [
    "gas_df.index = (pd.date_range('2007-01-01', '2016-01-11', freq='W-MON'))"
   ]
  },
  {
   "cell_type": "code",
   "execution_count": 14,
   "metadata": {
    "collapsed": false
   },
   "outputs": [],
   "source": [
    "gas_df = gas_df.append(pd.DataFrame([[2.104]], index=[datetime.datetime(2016,01,14,23,59)], columns=gas_df.columns))"
   ]
  },
  {
   "cell_type": "code",
   "execution_count": 15,
   "metadata": {
    "collapsed": false
   },
   "outputs": [
    {
     "data": {
      "text/html": [
       "<div>\n",
       "<table border=\"1\" class=\"dataframe\">\n",
       "  <thead>\n",
       "    <tr style=\"text-align: right;\">\n",
       "      <th></th>\n",
       "      <th>Weekly U.S. All Grades All Formulations Retail Gasoline Prices  (Dollars per Gallon)</th>\n",
       "    </tr>\n",
       "  </thead>\n",
       "  <tbody>\n",
       "    <tr>\n",
       "      <th>2015-12-21 00:00:00</th>\n",
       "      <td>2.133</td>\n",
       "    </tr>\n",
       "    <tr>\n",
       "      <th>2015-12-28 00:00:00</th>\n",
       "      <td>2.141</td>\n",
       "    </tr>\n",
       "    <tr>\n",
       "      <th>2016-01-04 00:00:00</th>\n",
       "      <td>2.135</td>\n",
       "    </tr>\n",
       "    <tr>\n",
       "      <th>2016-01-11 00:00:00</th>\n",
       "      <td>2.104</td>\n",
       "    </tr>\n",
       "    <tr>\n",
       "      <th>2016-01-14 23:59:00</th>\n",
       "      <td>2.104</td>\n",
       "    </tr>\n",
       "  </tbody>\n",
       "</table>\n",
       "</div>"
      ],
      "text/plain": [
       "                     Weekly U.S. All Grades All Formulations Retail Gasoline Prices  (Dollars per Gallon)\n",
       "2015-12-21 00:00:00                                              2.133                                   \n",
       "2015-12-28 00:00:00                                              2.141                                   \n",
       "2016-01-04 00:00:00                                              2.135                                   \n",
       "2016-01-11 00:00:00                                              2.104                                   \n",
       "2016-01-14 23:59:00                                              2.104                                   "
      ]
     },
     "execution_count": 15,
     "metadata": {},
     "output_type": "execute_result"
    }
   ],
   "source": [
    "gas_df.tail()"
   ]
  },
  {
   "cell_type": "code",
   "execution_count": 16,
   "metadata": {
    "collapsed": false,
    "scrolled": true
   },
   "outputs": [],
   "source": [
    "gas_df = gas_df.resample('5T', fill_method='bfill')"
   ]
  },
  {
   "cell_type": "code",
   "execution_count": 17,
   "metadata": {
    "collapsed": false
   },
   "outputs": [
    {
     "data": {
      "text/html": [
       "<div>\n",
       "<table border=\"1\" class=\"dataframe\">\n",
       "  <thead>\n",
       "    <tr style=\"text-align: right;\">\n",
       "      <th></th>\n",
       "      <th>Delay (Pacific Highway South Cars)</th>\n",
       "      <th>Volume (Pacific Highway South Cars)</th>\n",
       "    </tr>\n",
       "    <tr>\n",
       "      <th>Starts</th>\n",
       "      <th></th>\n",
       "      <th></th>\n",
       "    </tr>\n",
       "  </thead>\n",
       "  <tbody>\n",
       "    <tr>\n",
       "      <th>2016-01-14 23:35:00</th>\n",
       "      <td>0</td>\n",
       "      <td>3</td>\n",
       "    </tr>\n",
       "    <tr>\n",
       "      <th>2016-01-14 23:40:00</th>\n",
       "      <td>0</td>\n",
       "      <td>4</td>\n",
       "    </tr>\n",
       "    <tr>\n",
       "      <th>2016-01-14 23:45:00</th>\n",
       "      <td>2</td>\n",
       "      <td>2</td>\n",
       "    </tr>\n",
       "    <tr>\n",
       "      <th>2016-01-14 23:50:00</th>\n",
       "      <td>0</td>\n",
       "      <td>2</td>\n",
       "    </tr>\n",
       "    <tr>\n",
       "      <th>2016-01-14 23:55:00</th>\n",
       "      <td>0</td>\n",
       "      <td>2</td>\n",
       "    </tr>\n",
       "  </tbody>\n",
       "</table>\n",
       "</div>"
      ],
      "text/plain": [
       "                     Delay (Pacific Highway South Cars)  \\\n",
       "Starts                                                    \n",
       "2016-01-14 23:35:00                                   0   \n",
       "2016-01-14 23:40:00                                   0   \n",
       "2016-01-14 23:45:00                                   2   \n",
       "2016-01-14 23:50:00                                   0   \n",
       "2016-01-14 23:55:00                                   0   \n",
       "\n",
       "                     Volume (Pacific Highway South Cars)  \n",
       "Starts                                                    \n",
       "2016-01-14 23:35:00                                    3  \n",
       "2016-01-14 23:40:00                                    4  \n",
       "2016-01-14 23:45:00                                    2  \n",
       "2016-01-14 23:50:00                                    2  \n",
       "2016-01-14 23:55:00                                    2  "
      ]
     },
     "execution_count": 17,
     "metadata": {},
     "output_type": "execute_result"
    }
   ],
   "source": [
    "ml_df.tail()"
   ]
  },
  {
   "cell_type": "code",
   "execution_count": 18,
   "metadata": {
    "collapsed": false
   },
   "outputs": [
    {
     "data": {
      "text/plain": [
       "(950688, 950688)"
      ]
     },
     "execution_count": 18,
     "metadata": {},
     "output_type": "execute_result"
    }
   ],
   "source": [
    "len(gas_df), len(ml_df)"
   ]
  },
  {
   "cell_type": "markdown",
   "metadata": {},
   "source": [
    "#### Weather"
   ]
  },
  {
   "cell_type": "code",
   "execution_count": 19,
   "metadata": {
    "collapsed": true
   },
   "outputs": [],
   "source": [
    "w_columns = ['Date/Time',\n",
    " 'Year',\n",
    " 'Month',\n",
    " 'Day',\n",
    " 'Data Quality',\n",
    " 'Max Temp',\n",
    " 'Max Temp Flag',\n",
    " 'Min Temp',\n",
    " 'Min Temp Flag',\n",
    " 'Mean Temp',\n",
    " 'Mean Temp Flag',\n",
    " 'Heat Deg Days',\n",
    " 'Heat Deg Days Flag',\n",
    " 'Cool Deg Days',\n",
    " 'Cool Deg Days Flag',\n",
    " 'Total Rain (mm)',\n",
    " 'Total Rain Flag',\n",
    " 'Total Snow (cm)',\n",
    " 'Total Snow Flag',\n",
    " 'Total Precip (mm)',\n",
    " 'Total Precip Flag',\n",
    " 'Snow on Grnd (cm)',\n",
    " 'Snow on Grnd Flag',\n",
    " 'Dir of Max Gust (10s deg)',\n",
    " 'Dir of Max Gust Flag',\n",
    " 'Spd of Max Gust (km/h)',\n",
    " 'Spd of Max Gust Flag']\n"
   ]
  },
  {
   "cell_type": "code",
   "execution_count": 20,
   "metadata": {
    "collapsed": false
   },
   "outputs": [
    {
     "name": "stdout",
     "output_type": "stream",
     "text": [
      "= pd.read_csv(\"weather/eng-daily-01012007-12312007.csv\", skiprows=25)\n",
      "= pd.read_csv(\"weather/eng-daily-01012008-12312008.csv\", skiprows=25)\n",
      "= pd.read_csv(\"weather/eng-daily-01012009-12312009.csv\", skiprows=25)\n",
      "= pd.read_csv(\"weather/eng-daily-01012010-12312010.csv\", skiprows=25)\n",
      "= pd.read_csv(\"weather/eng-daily-01012011-12312011.csv\", skiprows=25)\n",
      "= pd.read_csv(\"weather/eng-daily-01012012-12312012.csv\", skiprows=25)\n",
      "= pd.read_csv(\"weather/eng-daily-01012013-12312013.csv\", skiprows=25)\n",
      "= pd.read_csv(\"weather/eng-daily-01012014-12312014.csv\", skiprows=25)\n",
      "= pd.read_csv(\"weather/eng-daily-01012015-12312015.csv\", skiprows=25)\n",
      "= pd.read_csv(\"weather/eng-daily-01012016-12312016.csv\", skiprows=25)\n"
     ]
    }
   ],
   "source": [
    "for year in range(2007, 2017):\n",
    "    string = 'weather_df_'+ str(year)\n",
    "    print ('= pd.read_csv(\"weather/eng-daily-0101{}-1231{}.csv\", skiprows=25)'.format(str(year), str(year)))"
   ]
  },
  {
   "cell_type": "code",
   "execution_count": 21,
   "metadata": {
    "collapsed": false
   },
   "outputs": [],
   "source": [
    "w_07 = pd.read_csv(\"weather/eng-daily-01012007-12312007.csv\", skiprows=25)\n",
    "w_08 = pd.read_csv(\"weather/eng-daily-01012008-12312008.csv\", skiprows=25)\n",
    "w_09 = pd.read_csv(\"weather/eng-daily-01012009-12312009.csv\", skiprows=25)\n",
    "w_10 = pd.read_csv(\"weather/eng-daily-01012010-12312010.csv\", skiprows=25)\n",
    "w_11 = pd.read_csv(\"weather/eng-daily-01012011-12312011.csv\", skiprows=25)\n",
    "w_12 = pd.read_csv(\"weather/eng-daily-01012012-12312012.csv\", skiprows=25)\n",
    "w_13 = pd.read_csv(\"weather/eng-daily-01012013-12312013.csv\", skiprows=25)\n",
    "w_14 = pd.read_csv(\"weather/eng-daily-01012014-12312014.csv\", skiprows=25)\n",
    "w_15 = pd.read_csv(\"weather/eng-daily-01012015-12312015.csv\", skiprows=25)\n",
    "w_16 =  pd.read_csv(\"weather/eng-daily-01012016-12312016.csv\", skiprows=25)\n",
    "\n",
    "w_07.columns = w_columns\n",
    "w_08.columns = w_columns\n",
    "w_09.columns = w_columns\n",
    "w_10.columns = w_columns\n",
    "w_11.columns = w_columns\n",
    "w_12.columns = w_columns\n",
    "w_13.columns = w_columns\n",
    "w_14.columns = w_columns\n",
    "w_15.columns = w_columns\n",
    "w_16.columns = w_columns"
   ]
  },
  {
   "cell_type": "code",
   "execution_count": 22,
   "metadata": {
    "collapsed": true
   },
   "outputs": [],
   "source": [
    "weather_df = pd.concat([w_07, w_08, w_09, w_10, w_11, w_12, w_13, w_14, w_15, w_16])"
   ]
  },
  {
   "cell_type": "code",
   "execution_count": 23,
   "metadata": {
    "collapsed": false
   },
   "outputs": [],
   "source": [
    "weather_df.index = pd.date_range(\"2007-01-01\", \"2016-12-31\", freq=\"D\")"
   ]
  },
  {
   "cell_type": "code",
   "execution_count": 24,
   "metadata": {
    "collapsed": false
   },
   "outputs": [],
   "source": [
    "weather_df = weather_df[:3302]"
   ]
  },
  {
   "cell_type": "code",
   "execution_count": 25,
   "metadata": {
    "collapsed": false
   },
   "outputs": [],
   "source": [
    "weather_df = weather_df.resample('5T', fill_method='ffill')"
   ]
  },
  {
   "cell_type": "code",
   "execution_count": 26,
   "metadata": {
    "collapsed": true
   },
   "outputs": [],
   "source": [
    "weather_df = weather_df[:len(weather_df) - 1]"
   ]
  },
  {
   "cell_type": "code",
   "execution_count": 27,
   "metadata": {
    "collapsed": false
   },
   "outputs": [
    {
     "data": {
      "text/plain": [
       "True"
      ]
     },
     "execution_count": 27,
     "metadata": {},
     "output_type": "execute_result"
    }
   ],
   "source": [
    "len(weather_df) == len(ml_df)"
   ]
  },
  {
   "cell_type": "code",
   "execution_count": 28,
   "metadata": {
    "collapsed": false
   },
   "outputs": [],
   "source": [
    "dumb_columns = ['USD', 'Reciprocal rate',  'Total Snow Flag', 'Cool Deg Days',\n",
    " 'Cool Deg Days Flag','Data Quality', 'Max Temp Flag', 'Min Temp Flag','Mean Temp Flag','Heat Deg Days Flag',\n",
    "             'Cool Deg Days Flag',  'Total Rain Flag', 'Total Snow Flag', 'Total Precip Flag', 'Snow on Grnd Flag',\n",
    "               'Dir of Max Gust (10s deg)', 'Dir of Max Gust Flag', 'Spd of Max Gust Flag', 'Total Snow (cm)',\n",
    "               'Total Rain (mm)', 'Date', 'Date/Time', 'Spd of Max Gust (km/h)']"
   ]
  },
  {
   "cell_type": "code",
   "execution_count": 29,
   "metadata": {
    "collapsed": false
   },
   "outputs": [],
   "source": [
    "final_df = pd.concat([ml_df, dollar_data, gas_df, weather_df], axis=1)\n",
    "final_df = final_df.drop(final_df[dumb_columns], axis=1)"
   ]
  },
  {
   "cell_type": "code",
   "execution_count": 30,
   "metadata": {
    "collapsed": false
   },
   "outputs": [],
   "source": [
    "final_df['Hour'] = final_df.index.hour\n",
    "final_df['Minute'] = final_df.index.minute\n",
    "#final_df.dropna(inplace=True)"
   ]
  },
  {
   "cell_type": "code",
   "execution_count": 68,
   "metadata": {
    "collapsed": false
   },
   "outputs": [],
   "source": [
    "final_df['Day of Year'] = final_df.index.dayofyear\n",
    "final_df['Day of Week'] = final_df.index.dayofweek"
   ]
  },
  {
   "cell_type": "markdown",
   "metadata": {},
   "source": [
    "#### Start Analysis"
   ]
  },
  {
   "cell_type": "code",
   "execution_count": 69,
   "metadata": {
    "collapsed": true
   },
   "outputs": [],
   "source": [
    "final_df['Snow on Grnd (cm)'].fillna(0, inplace=True)\n",
    "final_df.dropna(inplace=True)"
   ]
  },
  {
   "cell_type": "code",
   "execution_count": 70,
   "metadata": {
    "collapsed": false
   },
   "outputs": [
    {
     "name": "stderr",
     "output_type": "stream",
     "text": [
      "/home/captain_eli/anaconda2/lib/python2.7/site-packages/ipykernel/__main__.py:1: FutureWarning: convert_objects is deprecated.  Use the data-type specific converters pd.to_datetime, pd.to_timedelta and pd.to_numeric.\n",
      "  if __name__ == '__main__':\n"
     ]
    }
   ],
   "source": [
    "final_df = final_df.convert_objects(convert_numeric=True)"
   ]
  },
  {
   "cell_type": "code",
   "execution_count": 71,
   "metadata": {
    "collapsed": false
   },
   "outputs": [
    {
     "name": "stdout",
     "output_type": "stream",
     "text": [
      "<class 'pandas.core.frame.DataFrame'>\n",
      "DatetimeIndex: 724196 entries, 2007-01-01 00:05:00 to 2016-01-14 23:55:00\n",
      "Data columns (total 17 columns):\n",
      "Delay (Pacific Highway South Cars)                                                      724196 non-null float64\n",
      "Volume (Pacific Highway South Cars)                                                     724196 non-null float64\n",
      "Conversion rate                                                                         724196 non-null float64\n",
      "Weekly U.S. All Grades All Formulations Retail Gasoline Prices  (Dollars per Gallon)    724196 non-null float64\n",
      "Year                                                                                    724196 non-null int64\n",
      "Month                                                                                   724196 non-null int64\n",
      "Day                                                                                     724196 non-null int64\n",
      "Max Temp                                                                                724196 non-null float64\n",
      "Min Temp                                                                                724196 non-null float64\n",
      "Mean Temp                                                                               724196 non-null float64\n",
      "Heat Deg Days                                                                           724196 non-null float64\n",
      "Total Precip (mm)                                                                       724196 non-null float64\n",
      "Snow on Grnd (cm)                                                                       724196 non-null float64\n",
      "Hour                                                                                    724196 non-null int32\n",
      "Minute                                                                                  724196 non-null int32\n",
      "Day of Week                                                                             724196 non-null int32\n",
      "Day of Year                                                                             724196 non-null int32\n",
      "dtypes: float64(10), int32(4), int64(3)\n",
      "memory usage: 88.4 MB\n"
     ]
    }
   ],
   "source": [
    "final_df.info()"
   ]
  },
  {
   "cell_type": "code",
   "execution_count": 80,
   "metadata": {
    "collapsed": false
   },
   "outputs": [],
   "source": [
    "features_l =  [\n",
    "'Day of Year',\n",
    " 'Conversion rate',\n",
    " u'Weekly U.S. All Grades All Formulations Retail Gasoline Prices  (Dollars per Gallon)',\n",
    " 'Year',\n",
    " 'Month',\n",
    " 'Day',\n",
    " 'Max Temp',\n",
    " 'Min Temp',\n",
    " 'Mean Temp',\n",
    " 'Heat Deg Days',\n",
    " 'Total Precip (mm)',\n",
    " 'Snow on Grnd (cm)',\n",
    " 'Minute']"
   ]
  },
  {
   "cell_type": "code",
   "execution_count": 81,
   "metadata": {
    "collapsed": true
   },
   "outputs": [],
   "source": [
    "def compute_r_squared(data, predictions):\n",
    "    SST = ((data-np.mean(data))**2).sum()\n",
    "    SSReg = ((predictions-data)**2).sum()\n",
    "    r_squared = 1 - SSReg / SST\n",
    "    \n",
    "    return r_squared"
   ]
  },
  {
   "cell_type": "code",
   "execution_count": 82,
   "metadata": {
    "collapsed": true
   },
   "outputs": [],
   "source": [
    "import statsmodels.api as sm\n",
    "\n",
    "def linear_regression(features, values):\n",
    "    features = sm.add_constant(features)\n",
    "    model = sm.OLS(values, features)\n",
    "    results = model.fit()\n",
    "    intercept = results.params[0]\n",
    "    params = results.params[1:]\n",
    "    \n",
    "    print results.params\n",
    "    \n",
    "    return intercept, params"
   ]
  },
  {
   "cell_type": "code",
   "execution_count": 83,
   "metadata": {
    "collapsed": false
   },
   "outputs": [],
   "source": [
    "def predictions(dataframe):\n",
    "    features = dataframe[features_l]\n",
    "    dummy_1 = pd.get_dummies(dataframe['Day of Week'], prefix='Day_of_week')\n",
    "    dummy_2 = pd.get_dummies(dataframe['Hour'], prefix='Hour')\n",
    "    \n",
    "    features = features.join(dummy_1)\n",
    "    features = features.join(dummy_2)\n",
    "    \n",
    "    # Values\n",
    "    values = dataframe['Delay (Pacific Highway South Cars)']\n",
    "\n",
    "    # Perform linear regression\n",
    "    intercept, params = linear_regression(features, values)\n",
    "    predictions = intercept + np.dot(features, params)\n",
    "    print predictions\n",
    "    return predictions"
   ]
  },
  {
   "cell_type": "code",
   "execution_count": null,
   "metadata": {
    "collapsed": false,
    "scrolled": false
   },
   "outputs": [],
   "source": [
    "predictions = predictions(final_df)\n",
    "print len(predictions)\n",
    "compute_r_squared(final_df['Delay (Pacific Highway South Cars)'], predictions)"
   ]
  },
  {
   "cell_type": "code",
   "execution_count": null,
   "metadata": {
    "collapsed": true
   },
   "outputs": [],
   "source": []
  }
 ],
 "metadata": {
  "kernelspec": {
   "display_name": "Python 2",
   "language": "python",
   "name": "python2"
  },
  "language_info": {
   "codemirror_mode": {
    "name": "ipython",
    "version": 2
   },
   "file_extension": ".py",
   "mimetype": "text/x-python",
   "name": "python",
   "nbconvert_exporter": "python",
   "pygments_lexer": "ipython2",
   "version": "2.7.11"
  }
 },
 "nbformat": 4,
 "nbformat_minor": 0
}
